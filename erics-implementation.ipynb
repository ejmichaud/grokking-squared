{
 "cells": [
  {
   "cell_type": "code",
   "execution_count": 1,
   "id": "f4f92b92",
   "metadata": {},
   "outputs": [],
   "source": [
    "from itertools import product\n",
    "import random\n",
    "from tqdm.auto import tqdm\n",
    "\n",
    "import numpy as np\n",
    "import matplotlib.pyplot as plt\n",
    "\n",
    "import torch\n",
    "import torch.nn as nn"
   ]
  },
  {
   "cell_type": "code",
   "execution_count": 2,
   "id": "8182bacd",
   "metadata": {},
   "outputs": [],
   "source": [
    "device = torch.device('cuda:0' if torch.cuda.is_available() else 'cpu')\n",
    "dtype = torch.float64"
   ]
  },
  {
   "cell_type": "markdown",
   "id": "2f9319e8",
   "metadata": {},
   "source": [
    "## Define Model"
   ]
  },
  {
   "cell_type": "code",
   "execution_count": 3,
   "id": "8a6db843",
   "metadata": {},
   "outputs": [],
   "source": [
    "class ToyModel(nn.Module):\n",
    "    def __init__(self, digit_rep_dim,\n",
    "                       internal_rep_dim,\n",
    "                       encoder_width=50,\n",
    "                       encoder_depth=3,\n",
    "                       decoder_width=50,\n",
    "                       decoder_depth=3,\n",
    "                       activation=nn.Tanh,\n",
    "                       device='cpu'):\n",
    "        \"\"\"A toy model for grokking with an encoder, a exact addition operation, and a decoder.\n",
    "        \n",
    "        Arguments:\n",
    "            digit_rep_dim (int): Dimension of vectors representing symbols in binary op table\n",
    "            internal_rep_dim (int): Dimension of encoded representation (usually 1 or 2)\n",
    "            encoder_width (int): Width of MLP for the encoder\n",
    "            encoder_depth (int): Depth of MLP for the encoder (a depth of 2 is 1 hidden layer)\n",
    "            decoder_width (int): Width of MLP for the decoder\n",
    "            decoder_depth (int): Depth of MLP for the decoder (a depth of 2 is 1 hidden layer)\n",
    "            activation: PyTorch class for activation function to use for encoder/decoder MLPs\n",
    "            device: device to put the encoder and decoder on\n",
    "        \"\"\"\n",
    "        super(ToyModel, self).__init__()\n",
    "        self.digit_rep_dim = digit_rep_dim\n",
    "        \n",
    "        # ------ Create Encoder ------\n",
    "        encoder_layers = []\n",
    "        for i in range(encoder_depth):\n",
    "            if i == 0:\n",
    "                encoder_layers.append(nn.Linear(digit_rep_dim, encoder_width))\n",
    "                encoder_layers.append(activation())\n",
    "            elif i == encoder_depth - 1:\n",
    "                encoder_layers.append(nn.Linear(encoder_width, internal_rep_dim))\n",
    "            else:\n",
    "                encoder_layers.append(nn.Linear(encoder_width, encoder_width))\n",
    "                encoder_layers.append(activation())\n",
    "        self.encoder = nn.Sequential(*encoder_layers).to(device)\n",
    "        \n",
    "        # ------ Create Decoder ------\n",
    "        decoder_layers = []\n",
    "        for i in range(decoder_depth):\n",
    "            if i == 0:\n",
    "                decoder_layers.append(nn.Linear(internal_rep_dim, decoder_width))\n",
    "                decoder_layers.append(activation())\n",
    "            elif i == decoder_depth - 1:\n",
    "                decoder_layers.append(nn.Linear(decoder_width, digit_rep_dim))\n",
    "            else:\n",
    "                decoder_layers.append(nn.Linear(decoder_width, decoder_width))\n",
    "                decoder_layers.append(activation())\n",
    "        self.decoder = nn.Sequential(*decoder_layers).to(device)\n",
    "        \n",
    "        \n",
    "    def forward(self, x):\n",
    "        \"\"\"Runs the toy model on input `x`.\n",
    "        \n",
    "        `x` must contain vectors of dimension 2 * `digit_rep_dim`, since it represents a pair\n",
    "        of symbols that we want to compute our binary operation between.\n",
    "        \"\"\"\n",
    "        x1 = x[..., :self.digit_rep_dim]\n",
    "        x2 = x[..., self.digit_rep_dim:]\n",
    "        return self.decoder(self.encoder(x1) + self.encoder(x2))"
   ]
  },
  {
   "cell_type": "markdown",
   "id": "0205b561",
   "metadata": {},
   "source": [
    "## Define dataset"
   ]
  },
  {
   "cell_type": "code",
   "execution_count": 20,
   "id": "15579a8f",
   "metadata": {},
   "outputs": [],
   "source": [
    "p = 10 # number of symbols along each axis of table\n",
    "DIGIT_REP_DIM = 16\n",
    "\n",
    "symbol_reps = dict()\n",
    "for i in range(2 * p - 1):\n",
    "    vec = torch.randn((1, DIGIT_REP_DIM))\n",
    "    symbol_reps[i] = vec / torch.norm(vec, 2)\n",
    "    \n",
    "def get_i_from_rep(rep, symbol_reps):\n",
    "    assert next(iter(symbol_reps.values())).shape == rep.shape\n",
    "    for i, candidate_rep in symbol_reps.items():\n",
    "        if torch.all(rep.to(candidate_rep.device) == candidate_rep):\n",
    "            return i"
   ]
  },
  {
   "cell_type": "code",
   "execution_count": 21,
   "id": "d947919c",
   "metadata": {},
   "outputs": [],
   "source": [
    "table = dict()\n",
    "pairs = [(i, j) for (i, j) in product(range(p), range(p)) if i <= j]\n",
    "for (i, j) in pairs:\n",
    "    table[(i, j)] = (i + j)\n",
    "    \n",
    "train_pairs = random.sample(pairs, int(len(pairs) * 0.75))\n",
    "test_pairs = [pair for pair in pairs if pair not in train_pairs]\n",
    "\n",
    "train_data = (\n",
    "    torch.cat([torch.cat((symbol_reps[i], symbol_reps[j]), dim=1) for i, j in train_pairs], dim=0),\n",
    "    torch.cat([symbol_reps[table[pair]] for pair in train_pairs])\n",
    ")\n",
    "\n",
    "test_data = (\n",
    "    torch.cat([torch.cat((symbol_reps[i], symbol_reps[j]), dim=1) for i, j in test_pairs], dim=0),\n",
    "    torch.cat([symbol_reps[table[pair]] for pair in test_pairs])\n",
    ")"
   ]
  },
  {
   "cell_type": "markdown",
   "id": "9820a03e",
   "metadata": {},
   "source": [
    "### Visualize data"
   ]
  },
  {
   "cell_type": "code",
   "execution_count": 22,
   "id": "aad966bc",
   "metadata": {},
   "outputs": [
    {
     "data": {
      "text/plain": [
       "Text(0.5, 1.0, 'all data')"
      ]
     },
     "execution_count": 22,
     "metadata": {},
     "output_type": "execute_result"
    },
    {
     "data": {
      "image/png": "[encoded data removed]",
      "text/plain": [
       "<Figure size 792x216 with 6 Axes>"
      ]
     },
     "metadata": {
      "needs_background": "light"
     },
     "output_type": "display_data"
    }
   ],
   "source": [
    "plt.figure(figsize=(11, 3))\n",
    "\n",
    "all_visu = -1 * np.ones((p, p))\n",
    "\n",
    "plt.subplot(1, 3, 1)\n",
    "train_visu = -1 * np.ones((p, p))\n",
    "for i, j in train_pairs:\n",
    "    train_visu[i, j] = table[(i, j)]\n",
    "    all_visu[i, j] = table[(i, j)]\n",
    "plt.imshow(train_visu)\n",
    "plt.colorbar()\n",
    "plt.title(\"train data\")\n",
    "\n",
    "plt.subplot(1, 3, 2)\n",
    "test_visu = -1 * np.ones((p, p))\n",
    "for i, j in test_pairs:\n",
    "    test_visu[i, j] = table[(i, j)]\n",
    "    all_visu[i, j] = table[(i, j)]\n",
    "plt.imshow(test_visu)\n",
    "plt.colorbar()\n",
    "plt.title(\"test data\")\n",
    "\n",
    "plt.subplot(1, 3, 3)\n",
    "plt.imshow(all_visu)\n",
    "plt.colorbar()\n",
    "plt.title(\"all data\")"
   ]
  },
  {
   "cell_type": "markdown",
   "id": "49f8ed89",
   "metadata": {},
   "source": [
    "### Train model"
   ]
  },
  {
   "cell_type": "code",
   "execution_count": 35,
   "id": "9ddb3ff1",
   "metadata": {},
   "outputs": [],
   "source": [
    "model = ToyModel(DIGIT_REP_DIM, 1, device=device)"
   ]
  },
  {
   "cell_type": "code",
   "execution_count": 36,
   "id": "1a8d2ba8",
   "metadata": {},
   "outputs": [],
   "source": [
    "optim = torch.optim.Adam(model.parameters(), weight_decay=1e-5)\n",
    "loss_fn = nn.MSELoss()"
   ]
  },
  {
   "cell_type": "code",
   "execution_count": 37,
   "id": "f7323af4",
   "metadata": {},
   "outputs": [],
   "source": [
    "def distance(x, y):\n",
    "    assert x.shape == y.shape\n",
    "    return torch.norm(x - y, 2)"
   ]
  },
  {
   "cell_type": "code",
   "execution_count": 38,
   "id": "614008ad",
   "metadata": {},
   "outputs": [
    {
     "data": {
      "application/vnd.jupyter.widget-view+json": {
       "model_id": "2a31292f44fb47069ad4e788ae0a226a",
       "version_major": 2,
       "version_minor": 0
      },
      "text/plain": [
       "  0%|          | 0/1000000 [00:00<?, ?it/s]"
      ]
     },
     "metadata": {},
     "output_type": "display_data"
    }
   ],
   "source": [
    "train_losses = []\n",
    "test_losses = []\n",
    "train_accuracies = []\n",
    "test_accuracies = []\n",
    "steps = []\n",
    "\n",
    "for step in tqdm(range(int(1e6))):\n",
    "    optim.zero_grad()\n",
    "    x, y_target = train_data\n",
    "    x, y_target = x.to(device), y_target.to(device)\n",
    "    y_train = model(x)\n",
    "    l = loss_fn(y_target, y_train)\n",
    "    \n",
    "    if step % int(2e2) == 0:\n",
    "        # record train accuracy and loss\n",
    "        with torch.no_grad():\n",
    "            correct = 0\n",
    "            for i in range(x.shape[0]):\n",
    "                closest_rep = min(symbol_reps.values(), key=lambda pos_rep: distance(pos_rep.to(device), y_train[i:i+1, ...]))\n",
    "                pred_i = get_i_from_rep(closest_rep, symbol_reps)\n",
    "                target_i = get_i_from_rep(y_target[i:i+1, ...], symbol_reps)\n",
    "                if pred_i == target_i:\n",
    "                    correct += 1\n",
    "            steps.append(step)\n",
    "            train_accuracies.append(correct / x.shape[0])\n",
    "            train_losses.append(l.item())\n",
    "\n",
    "        # record test accuracy and loss\n",
    "        with torch.no_grad():\n",
    "            x_test, y_test_target = test_data\n",
    "            x_test, y_test_target = x_test.to(device), y_test_target.to(device)\n",
    "            y_test = model(x_test)\n",
    "            l_test = loss_fn(y_test_target, y_test)\n",
    "            correct = 0\n",
    "            for i in range(x_test.shape[0]):\n",
    "                closest_rep = min(symbol_reps.values(), key=lambda pos_rep: distance(pos_rep.to(device), y_test[i:i+1, ...]))\n",
    "                pred_i = get_i_from_rep(closest_rep, symbol_reps)\n",
    "                target_i = get_i_from_rep(y_test_target[i:i+1, ...], symbol_reps)\n",
    "                if pred_i == target_i:\n",
    "                    correct += 1\n",
    "            test_accuracies.append(correct / x_test.shape[0])\n",
    "            test_losses.append(l_test.item())\n",
    "\n",
    "    # backprop and step\n",
    "    l.backward()\n",
    "    optim.step()\n",
    "    "
   ]
  },
  {
   "cell_type": "code",
   "execution_count": 39,
   "id": "3f584491",
   "metadata": {},
   "outputs": [
    {
     "data": {
      "text/plain": [
       "<matplotlib.legend.Legend at 0x7fa9b3d4abe0>"
      ]
     },
     "execution_count": 39,
     "metadata": {},
     "output_type": "execute_result"
    },
    {
     "data": {
      "image/png": "[encoded data removed]",
      "text/plain": [
       "<Figure size 432x288 with 2 Axes>"
      ]
     },
     "metadata": {
      "needs_background": "light"
     },
     "output_type": "display_data"
    }
   ],
   "source": [
    "plt.subplot(1, 2, 1)\n",
    "plt.plot(steps, train_losses, label='train')\n",
    "plt.plot(steps, test_losses, label='test')\n",
    "plt.yscale('log')\n",
    "plt.title(\"Losses\")\n",
    "plt.legend()\n",
    "\n",
    "plt.subplot(1, 2, 2)\n",
    "plt.plot(steps, train_accuracies, label='train')\n",
    "plt.plot(steps, test_accuracies, label='test')\n",
    "plt.ylim(0, 1.1)\n",
    "plt.title(\"Accuracies\")\n",
    "plt.legend()"
   ]
  },
  {
   "cell_type": "code",
   "execution_count": null,
   "id": "5ad5eae2",
   "metadata": {},
   "outputs": [],
   "source": []
  },
  {
   "cell_type": "code",
   "execution_count": null,
   "id": "f8915aaa",
   "metadata": {},
   "outputs": [],
   "source": []
  },
  {
   "cell_type": "code",
   "execution_count": null,
   "id": "4a019726",
   "metadata": {},
   "outputs": [],
   "source": []
  },
  {
   "cell_type": "code",
   "execution_count": null,
   "id": "701e26a1",
   "metadata": {},
   "outputs": [],
   "source": []
  },
  {
   "cell_type": "code",
   "execution_count": null,
   "id": "3624af66",
   "metadata": {},
   "outputs": [],
   "source": []
  },
  {
   "cell_type": "code",
   "execution_count": null,
   "id": "cc12d52c",
   "metadata": {},
   "outputs": [],
   "source": []
  },
  {
   "cell_type": "code",
   "execution_count": null,
   "id": "ac599a33",
   "metadata": {},
   "outputs": [],
   "source": []
  },
  {
   "cell_type": "code",
   "execution_count": null,
   "id": "6cf6f778",
   "metadata": {},
   "outputs": [],
   "source": []
  },
  {
   "cell_type": "code",
   "execution_count": null,
   "id": "2dc24e20",
   "metadata": {},
   "outputs": [],
   "source": []
  },
  {
   "cell_type": "code",
   "execution_count": null,
   "id": "9a7bb6ed",
   "metadata": {},
   "outputs": [],
   "source": []
  },
  {
   "cell_type": "code",
   "execution_count": null,
   "id": "7cc50cf8",
   "metadata": {},
   "outputs": [],
   "source": []
  },
  {
   "cell_type": "code",
   "execution_count": null,
   "id": "7f96c1dd",
   "metadata": {},
   "outputs": [],
   "source": []
  },
  {
   "cell_type": "code",
   "execution_count": null,
   "id": "e5f03671",
   "metadata": {},
   "outputs": [],
   "source": []
  }
 ],
 "metadata": {
  "kernelspec": {
   "display_name": "Python 3 (ipykernel)",
   "language": "python",
   "name": "python3"
  },
  "language_info": {
   "codemirror_mode": {
    "name": "ipython",
    "version": 3
   },
   "file_extension": ".py",
   "mimetype": "text/x-python",
   "name": "python",
   "nbconvert_exporter": "python",
   "pygments_lexer": "ipython3",
   "version": "3.8.12"
  }
 },
 "nbformat": 4,
 "nbformat_minor": 5
}
