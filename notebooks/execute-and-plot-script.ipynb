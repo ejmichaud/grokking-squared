{
 "cells": [
  {
   "cell_type": "code",
   "execution_count": 7,
   "id": "102b64d9",
   "metadata": {},
   "outputs": [],
   "source": [
    "from itertools import product\n",
    "import json\n",
    "from tqdm.auto import tqdm\n",
    "\n",
    "import numpy as np\n",
    "import matplotlib.pyplot as plt\n",
    "import torch\n",
    "\n",
    "from sacred.observers import FileStorageObserver\n",
    "\n",
    "from scripts.run_toy_model import ex"
   ]
  },
  {
   "cell_type": "markdown",
   "id": "87a2a293",
   "metadata": {},
   "source": [
    "### Grid search over decoder weight decay"
   ]
  },
  {
   "cell_type": "code",
   "execution_count": 2,
   "id": "af2fe1ec",
   "metadata": {},
   "outputs": [
    {
     "data": {
      "application/vnd.jupyter.widget-view+json": {
       "model_id": "60f25be8579e441ab5c8081af7c103fa",
       "version_major": 2,
       "version_minor": 0
      },
      "text/plain": [
       "  0%|          | 0/13 [00:00<?, ?it/s]"
      ]
     },
     "metadata": {},
     "output_type": "display_data"
    },
    {
     "name": "stderr",
     "output_type": "stream",
     "text": [
      "INFO - run-toy-model - Running command 'run'\n",
      "INFO - run-toy-model - Started run with ID \"2\"\n"
     ]
    },
    {
     "data": {
      "application/vnd.jupyter.widget-view+json": {
       "model_id": "406391bccee943809622acb1f52e6349",
       "version_major": 2,
       "version_minor": 0
      },
      "text/plain": [
       "  0%|          | 0/500000 [00:00<?, ?it/s]"
      ]
     },
     "metadata": {},
     "output_type": "display_data"
    },
    {
     "name": "stderr",
     "output_type": "stream",
     "text": [
      "INFO - run-toy-model - Completed after 0:14:33\n",
      "INFO - run-toy-model - Running command 'run'\n",
      "INFO - run-toy-model - Started run with ID \"3\"\n"
     ]
    },
    {
     "data": {
      "application/vnd.jupyter.widget-view+json": {
       "model_id": "5819608830db49439a7999ec0bbb0982",
       "version_major": 2,
       "version_minor": 0
      },
      "text/plain": [
       "  0%|          | 0/500000 [00:00<?, ?it/s]"
      ]
     },
     "metadata": {},
     "output_type": "display_data"
    },
    {
     "name": "stderr",
     "output_type": "stream",
     "text": [
      "INFO - run-toy-model - Completed after 0:14:55\n",
      "INFO - run-toy-model - Running command 'run'\n",
      "INFO - run-toy-model - Started run with ID \"4\"\n"
     ]
    },
    {
     "data": {
      "application/vnd.jupyter.widget-view+json": {
       "model_id": "73886324cb114f64bd3851df0ec25a0f",
       "version_major": 2,
       "version_minor": 0
      },
      "text/plain": [
       "  0%|          | 0/500000 [00:00<?, ?it/s]"
      ]
     },
     "metadata": {},
     "output_type": "display_data"
    },
    {
     "name": "stderr",
     "output_type": "stream",
     "text": [
      "INFO - run-toy-model - Completed after 0:14:57\n",
      "INFO - run-toy-model - Running command 'run'\n",
      "INFO - run-toy-model - Started run with ID \"5\"\n"
     ]
    },
    {
     "data": {
      "application/vnd.jupyter.widget-view+json": {
       "model_id": "1f2a30b3b3f449e39789f56ba3e1eabf",
       "version_major": 2,
       "version_minor": 0
      },
      "text/plain": [
       "  0%|          | 0/500000 [00:00<?, ?it/s]"
      ]
     },
     "metadata": {},
     "output_type": "display_data"
    },
    {
     "name": "stderr",
     "output_type": "stream",
     "text": [
      "IOPub message rate exceeded.\n",
      "The notebook server will temporarily stop sending output\n",
      "to the client in order to avoid crashing it.\n",
      "To change this limit, set the config variable\n",
      "`--NotebookApp.iopub_msg_rate_limit`.\n",
      "\n",
      "Current values:\n",
      "NotebookApp.iopub_msg_rate_limit=1000.0 (msgs/sec)\n",
      "NotebookApp.rate_limit_window=3.0 (secs)\n",
      "\n",
      "IOPub message rate exceeded.\n",
      "The notebook server will temporarily stop sending output\n",
      "to the client in order to avoid crashing it.\n",
      "To change this limit, set the config variable\n",
      "`--NotebookApp.iopub_msg_rate_limit`.\n",
      "\n",
      "Current values:\n",
      "NotebookApp.iopub_msg_rate_limit=1000.0 (msgs/sec)\n",
      "NotebookApp.rate_limit_window=3.0 (secs)\n",
      "\n",
      "IOPub message rate exceeded.\n",
      "The notebook server will temporarily stop sending output\n",
      "to the client in order to avoid crashing it.\n",
      "To change this limit, set the config variable\n",
      "`--NotebookApp.iopub_msg_rate_limit`.\n",
      "\n",
      "Current values:\n",
      "NotebookApp.iopub_msg_rate_limit=1000.0 (msgs/sec)\n",
      "NotebookApp.rate_limit_window=3.0 (secs)\n",
      "\n",
      "IOPub message rate exceeded.\n",
      "The notebook server will temporarily stop sending output\n",
      "to the client in order to avoid crashing it.\n",
      "To change this limit, set the config variable\n",
      "`--NotebookApp.iopub_msg_rate_limit`.\n",
      "\n",
      "Current values:\n",
      "NotebookApp.iopub_msg_rate_limit=1000.0 (msgs/sec)\n",
      "NotebookApp.rate_limit_window=3.0 (secs)\n",
      "\n",
      "IOPub message rate exceeded.\n",
      "The notebook server will temporarily stop sending output\n",
      "to the client in order to avoid crashing it.\n",
      "To change this limit, set the config variable\n",
      "`--NotebookApp.iopub_msg_rate_limit`.\n",
      "\n",
      "Current values:\n",
      "NotebookApp.iopub_msg_rate_limit=1000.0 (msgs/sec)\n",
      "NotebookApp.rate_limit_window=3.0 (secs)\n",
      "\n",
      "INFO - run-toy-model - Completed after 0:14:47\n",
      "INFO - run-toy-model - Running command 'run'\n",
      "INFO - run-toy-model - Started run with ID \"12\"\n"
     ]
    },
    {
     "data": {
      "application/vnd.jupyter.widget-view+json": {
       "model_id": "6a5916d2c6c341d7b6cf190778d0786b",
       "version_major": 2,
       "version_minor": 0
      },
      "text/plain": [
       "  0%|          | 0/500000 [00:00<?, ?it/s]"
      ]
     },
     "metadata": {},
     "output_type": "display_data"
    },
    {
     "name": "stderr",
     "output_type": "stream",
     "text": [
      "IOPub message rate exceeded.\n",
      "The notebook server will temporarily stop sending output\n",
      "to the client in order to avoid crashing it.\n",
      "To change this limit, set the config variable\n",
      "`--NotebookApp.iopub_msg_rate_limit`.\n",
      "\n",
      "Current values:\n",
      "NotebookApp.iopub_msg_rate_limit=1000.0 (msgs/sec)\n",
      "NotebookApp.rate_limit_window=3.0 (secs)\n",
      "\n",
      "INFO - run-toy-model - Completed after 0:14:46\n",
      "INFO - run-toy-model - Running command 'run'\n",
      "INFO - run-toy-model - Started run with ID \"13\"\n"
     ]
    },
    {
     "data": {
      "application/vnd.jupyter.widget-view+json": {
       "model_id": "d8d69a2b0c4c44f497ccdfd9313b65de",
       "version_major": 2,
       "version_minor": 0
      },
      "text/plain": [
       "  0%|          | 0/500000 [00:00<?, ?it/s]"
      ]
     },
     "metadata": {},
     "output_type": "display_data"
    },
    {
     "name": "stderr",
     "output_type": "stream",
     "text": [
      "IOPub message rate exceeded.\n",
      "The notebook server will temporarily stop sending output\n",
      "to the client in order to avoid crashing it.\n",
      "To change this limit, set the config variable\n",
      "`--NotebookApp.iopub_msg_rate_limit`.\n",
      "\n",
      "Current values:\n",
      "NotebookApp.iopub_msg_rate_limit=1000.0 (msgs/sec)\n",
      "NotebookApp.rate_limit_window=3.0 (secs)\n",
      "\n",
      "INFO - run-toy-model - Completed after 0:14:50\n",
      "INFO - run-toy-model - Running command 'run'\n",
      "INFO - run-toy-model - Started run with ID \"14\"\n"
     ]
    },
    {
     "data": {
      "application/vnd.jupyter.widget-view+json": {
       "model_id": "f1f51b6a80ee43eebf3cbe332969691f",
       "version_major": 2,
       "version_minor": 0
      },
      "text/plain": [
       "  0%|          | 0/500000 [00:00<?, ?it/s]"
      ]
     },
     "metadata": {},
     "output_type": "display_data"
    },
    {
     "name": "stderr",
     "output_type": "stream",
     "text": [
      "IOPub message rate exceeded.\n",
      "The notebook server will temporarily stop sending output\n",
      "to the client in order to avoid crashing it.\n",
      "To change this limit, set the config variable\n",
      "`--NotebookApp.iopub_msg_rate_limit`.\n",
      "\n",
      "Current values:\n",
      "NotebookApp.iopub_msg_rate_limit=1000.0 (msgs/sec)\n",
      "NotebookApp.rate_limit_window=3.0 (secs)\n",
      "\n",
      "INFO - run-toy-model - Completed after 0:14:53\n"
     ]
    }
   ],
   "source": [
    "ex.observers.append(FileStorageObserver('results'))\n",
    "\n",
    "decoder_weight_decays = [0.0, 1e-7, 1e-6, 1e-5, 1e-4, 1e-3, 1e-2, 1e-1, 1, 2, 3, 4, 5]\n",
    "\n",
    "for dwd in tqdm(decoder_weight_decays):\n",
    "    ex.run(config_updates={\n",
    "        'decoder_weight_decay': dwd,\n",
    "        'train_steps': int(5e5)\n",
    "    })"
   ]
  },
  {
   "cell_type": "code",
   "execution_count": 3,
   "id": "b1e1b61a",
   "metadata": {},
   "outputs": [
    {
     "data": {
      "text/plain": [
       "13"
      ]
     },
     "execution_count": 3,
     "metadata": {},
     "output_type": "execute_result"
    }
   ],
   "source": [
    "len(decoder_weight_decays)"
   ]
  },
  {
   "cell_type": "code",
   "execution_count": 15,
   "id": "5c270b3a",
   "metadata": {},
   "outputs": [
    {
     "data": {
      "image/png": "[encoded data removed]",
      "text/plain": [
       "<Figure size 1008x360 with 13 Axes>"
      ]
     },
     "metadata": {
      "needs_background": "light"
     },
     "output_type": "display_data"
    }
   ],
   "source": [
    "plt.figure(figsize=(14, 5))\n",
    "for i in range(2, 2 + len(decoder_weight_decays)):\n",
    "    with open(f\"results/{i}/config.json\", \"r\") as f:\n",
    "        config = json.load(f)\n",
    "    with open(f\"results/{i}/info.json\", \"r\") as f:\n",
    "        info = json.load(f)\n",
    "    plt.subplot(2, 7, i-1)\n",
    "    plt.plot(info['steps'], info['train_accuracies'])\n",
    "    plt.plot(info['steps'], info['test_accuracies'])\n",
    "    plt.title(config['decoder_weight_decay'])\n",
    "plt.tight_layout()"
   ]
  },
  {
   "cell_type": "markdown",
   "id": "47b92bda",
   "metadata": {},
   "source": [
    "### grid search over decoder leraning rates"
   ]
  },
  {
   "cell_type": "code",
   "execution_count": null,
   "id": "d354615c",
   "metadata": {},
   "outputs": [
    {
     "data": {
      "application/vnd.jupyter.widget-view+json": {
       "model_id": "d20015e52667481eabc47d620738652a",
       "version_major": 2,
       "version_minor": 0
      },
      "text/plain": [
       "  0%|          | 0/9 [00:00<?, ?it/s]"
      ]
     },
     "metadata": {},
     "output_type": "display_data"
    },
    {
     "name": "stderr",
     "output_type": "stream",
     "text": [
      "INFO - run-toy-model - Running command 'run'\n",
      "INFO - run-toy-model - Started run with ID \"24\"\n"
     ]
    },
    {
     "data": {
      "application/vnd.jupyter.widget-view+json": {
       "model_id": "67c9626839b74e2c86b793b9b67a60d2",
       "version_major": 2,
       "version_minor": 0
      },
      "text/plain": [
       "  0%|          | 0/1000000 [00:00<?, ?it/s]"
      ]
     },
     "metadata": {},
     "output_type": "display_data"
    }
   ],
   "source": [
    "from sacred.observers import FileStorageObserver\n",
    "import sys\n",
    "sys.path.insert(1, '../scripts')\n",
    "from run_toy_model import ex, ToyModel\n",
    "ex.observers.append(FileStorageObserver('../results'))\n",
    "\n",
    "decoder_learning_rates = [0.0, 1e-6, 1e-5, 5e-4, 1e-4, 5e-3, 1e-3, 1e-2, 1e-1]\n",
    "\n",
    "for dlr in tqdm(decoder_learning_rates):\n",
    "    ex.run(config_updates={\n",
    "        'decoder_lr': dlr,\n",
    "        'train_steps': int(1e6)\n",
    "    })"
   ]
  },
  {
   "cell_type": "code",
   "execution_count": 3,
   "id": "534440ab",
   "metadata": {},
   "outputs": [],
   "source": [
    "i = 0\n",
    "with open(f\"../results/{24+i}/config.json\", \"r\") as f:\n",
    "    config = json.load(f)\n",
    "with open(f\"../results/{24+i}/info.json\", \"r\") as f:\n",
    "    info = json.load(f)"
   ]
  },
  {
   "cell_type": "code",
   "execution_count": 13,
   "id": "132876a7",
   "metadata": {},
   "outputs": [
    {
     "data": {
      "image/png": "[encoded data removed]",
      "text/plain": [
       "<Figure size 1008x360 with 9 Axes>"
      ]
     },
     "metadata": {
      "needs_background": "light"
     },
     "output_type": "display_data"
    }
   ],
   "source": [
    "plt.figure(figsize=(14, 5))\n",
    "for i in range(len(decoder_learning_rates)):\n",
    "    with open(f\"../results/{24+i}/config.json\", \"r\") as f:\n",
    "        config = json.load(f)\n",
    "    with open(f\"../results/{24+i}/info.json\", \"r\") as f:\n",
    "        info = json.load(f)\n",
    "    plt.subplot(2, 5, i+1)\n",
    "    plt.plot(info['steps'], info['train_accuracies'])\n",
    "    plt.plot(info['steps'], info['test_accuracies'])\n",
    "    plt.title(config['decoder_lr'])\n",
    "    plt.ylim(0, 1.05)\n",
    "plt.tight_layout()"
   ]
  },
  {
   "cell_type": "markdown",
   "id": "45fbaffc",
   "metadata": {},
   "source": [
    "### Do a 2d grid search over decoder weight decay and learning rate"
   ]
  },
  {
   "cell_type": "code",
   "execution_count": null,
   "id": "dd74b9e8",
   "metadata": {},
   "outputs": [
    {
     "data": {
      "application/vnd.jupyter.widget-view+json": {
       "model_id": "2e4589af5bdf49d88fe29132c52f1f40",
       "version_major": 2,
       "version_minor": 0
      },
      "text/plain": [
       "  0%|          | 0/153 [00:00<?, ?it/s]"
      ]
     },
     "metadata": {},
     "output_type": "display_data"
    },
    {
     "name": "stderr",
     "output_type": "stream",
     "text": [
      "INFO - run-toy-model - Running command 'run'\n",
      "INFO - run-toy-model - Started run with ID \"1\"\n"
     ]
    },
    {
     "data": {
      "application/vnd.jupyter.widget-view+json": {
       "model_id": "34e96ab740ca47519c8a22c268effa80",
       "version_major": 2,
       "version_minor": 0
      },
      "text/plain": [
       "  0%|          | 0/1000000 [00:00<?, ?it/s]"
      ]
     },
     "metadata": {},
     "output_type": "display_data"
    },
    {
     "name": "stderr",
     "output_type": "stream",
     "text": [
      "INFO - run-toy-model - Completed after 0:27:25\n",
      "INFO - run-toy-model - Running command 'run'\n",
      "INFO - run-toy-model - Started run with ID \"2\"\n"
     ]
    },
    {
     "data": {
      "application/vnd.jupyter.widget-view+json": {
       "model_id": "802c6484ee8c430b804e5f32462707c2",
       "version_major": 2,
       "version_minor": 0
      },
      "text/plain": [
       "  0%|          | 0/1000000 [00:00<?, ?it/s]"
      ]
     },
     "metadata": {},
     "output_type": "display_data"
    }
   ],
   "source": [
    "from sacred.observers import FileStorageObserver\n",
    "import sys\n",
    "sys.path.insert(1, '../scripts')\n",
    "from run_toy_model import ex, ToyModel\n",
    "ex.observers.append(FileStorageObserver('../gridsearch00-results'))\n",
    "\n",
    "decoder_learning_rates = [0.0, 1e-6, 1e-5, 5e-4, 1e-4, 5e-3, 1e-3, 1e-2, 1e-1]\n",
    "decoder_weight_decays = [0.0, 1e-7, 1e-6, 1e-5, 1e-4, 1e-3, 1e-2, 1e-1, 1, 2, 3, 4, 5, 6, 7, 8, 9]\n",
    "\n",
    "for dlr, dwd in tqdm((list(product(decoder_learning_rates, decoder_weight_decays)))):\n",
    "    ex.run(config_updates={\n",
    "        'decoder_lr': dlr,\n",
    "        'decoder_weight_decay': dwd,\n",
    "        'train_steps': int(1e6)\n",
    "    })"
   ]
  },
  {
   "cell_type": "code",
   "execution_count": null,
   "id": "621b7deb",
   "metadata": {},
   "outputs": [],
   "source": []
  },
  {
   "cell_type": "code",
   "execution_count": null,
   "id": "247659f3",
   "metadata": {},
   "outputs": [],
   "source": []
  },
  {
   "cell_type": "code",
   "execution_count": null,
   "id": "16cbe396",
   "metadata": {},
   "outputs": [],
   "source": []
  },
  {
   "cell_type": "code",
   "execution_count": null,
   "id": "5a7ed084",
   "metadata": {},
   "outputs": [],
   "source": []
  },
  {
   "cell_type": "code",
   "execution_count": null,
   "id": "0c890023",
   "metadata": {},
   "outputs": [],
   "source": []
  },
  {
   "cell_type": "code",
   "execution_count": null,
   "id": "6ce94b41",
   "metadata": {},
   "outputs": [],
   "source": []
  },
  {
   "cell_type": "code",
   "execution_count": null,
   "id": "3489c6dc",
   "metadata": {},
   "outputs": [],
   "source": []
  },
  {
   "cell_type": "code",
   "execution_count": null,
   "id": "4f54c88a",
   "metadata": {},
   "outputs": [],
   "source": []
  },
  {
   "cell_type": "code",
   "execution_count": null,
   "id": "7ffd6f51",
   "metadata": {},
   "outputs": [],
   "source": []
  },
  {
   "cell_type": "code",
   "execution_count": null,
   "id": "887e522f",
   "metadata": {},
   "outputs": [],
   "source": []
  },
  {
   "cell_type": "code",
   "execution_count": 4,
   "id": "2e67498d",
   "metadata": {},
   "outputs": [],
   "source": [
    "with open(\"results/2/config.json\", \"r\") as f:\n",
    "    config = json.load(f)\n",
    "with open(\"results/2/info.json\", \"r\") as f:\n",
    "    info = json.load(f)"
   ]
  },
  {
   "cell_type": "code",
   "execution_count": 10,
   "id": "5eaeb790",
   "metadata": {},
   "outputs": [
    {
     "data": {
      "text/plain": [
       "0.0"
      ]
     },
     "execution_count": 10,
     "metadata": {},
     "output_type": "execute_result"
    }
   ],
   "source": [
    "config['decoder_weight_decay']"
   ]
  },
  {
   "cell_type": "code",
   "execution_count": null,
   "id": "51c2d03e",
   "metadata": {},
   "outputs": [],
   "source": [
    "plt.plot(info['steps'], info['train_accuracies'])\n",
    "plt.plot(info['steps'], info['test_accuracies'])"
   ]
  },
  {
   "cell_type": "code",
   "execution_count": null,
   "id": "1f823f47",
   "metadata": {},
   "outputs": [],
   "source": [
    "thing = torch.load('results/1/dataset.pt')"
   ]
  },
  {
   "cell_type": "code",
   "execution_count": null,
   "id": "5bbfe441",
   "metadata": {},
   "outputs": [],
   "source": []
  },
  {
   "cell_type": "code",
   "execution_count": null,
   "id": "5aa7d042",
   "metadata": {},
   "outputs": [],
   "source": []
  },
  {
   "cell_type": "code",
   "execution_count": null,
   "id": "e0ceadf1",
   "metadata": {},
   "outputs": [],
   "source": []
  },
  {
   "cell_type": "code",
   "execution_count": null,
   "id": "1fc191d7",
   "metadata": {},
   "outputs": [],
   "source": []
  },
  {
   "cell_type": "code",
   "execution_count": null,
   "id": "c263973a",
   "metadata": {},
   "outputs": [],
   "source": []
  },
  {
   "cell_type": "code",
   "execution_count": null,
   "id": "479124f2",
   "metadata": {},
   "outputs": [],
   "source": []
  },
  {
   "cell_type": "code",
   "execution_count": null,
   "id": "cea296ce",
   "metadata": {},
   "outputs": [],
   "source": []
  },
  {
   "cell_type": "code",
   "execution_count": null,
   "id": "525a1663",
   "metadata": {},
   "outputs": [],
   "source": []
  }
 ],
 "metadata": {
  "kernelspec": {
   "display_name": "Python 3 (ipykernel)",
   "language": "python",
   "name": "python3"
  },
  "language_info": {
   "codemirror_mode": {
    "name": "ipython",
    "version": 3
   },
   "file_extension": ".py",
   "mimetype": "text/x-python",
   "name": "python",
   "nbconvert_exporter": "python",
   "pygments_lexer": "ipython3",
   "version": "3.9.7"
  }
 },
 "nbformat": 4,
 "nbformat_minor": 5
}
