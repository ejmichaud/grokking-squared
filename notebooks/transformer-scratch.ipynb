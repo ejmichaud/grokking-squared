{
 "cells": [
  {
   "cell_type": "code",
   "execution_count": 4,
   "id": "14603566",
   "metadata": {},
   "outputs": [],
   "source": [
    "\n",
    "from collections import defaultdict\n",
    "from itertools import islice\n",
    "import random\n",
    "import time\n",
    "from pathlib import Path\n",
    "import math\n",
    "\n",
    "import numpy as np\n",
    "from tqdm.auto import tqdm\n",
    "\n",
    "import torch\n",
    "import torch.nn as nn\n",
    "\n",
    "from multigrok.data import ArithmeticDataset\n",
    "from multigrok.transformer import Transformer\n",
    "\n",
    "def cycle(iterable):\n",
    "    while True:\n",
    "        for x in iterable:\n",
    "            yield x"
   ]
  },
  {
   "cell_type": "code",
   "execution_count": 5,
   "id": "a3981c35",
   "metadata": {},
   "outputs": [],
   "source": [
    "operators = ['+']\n",
    "p = 59\n",
    "optimization_steps = 100000\n",
    "log_freq = math.ceil(optimization_steps / 1000)\n",
    "batch_size = -1                 # -1 -> entire dataset, 0 < batch_size < 1 -> fraction of dataset, batch_size > 1 -> batch_size\n",
    "n_layers = 2\n",
    "n_heads = 8\n",
    "d_model = 256\n",
    "dropout = 0.0\n",
    "non_linearity = 'relu'          # 'relu' or 'gelu'\n",
    "training_data_fraction = 0.8\n",
    "\n",
    "halve_abelian = False\n",
    "only_input_tokens = False\n",
    "\n",
    "embedding_lr = 1e-3\n",
    "decoder_lr = 1e-3\n",
    "embedding_weight_decay = 0.0\n",
    "decoder_weight_decay = 0.0\n",
    "eps = 1e-8\n",
    "\n",
    "device = torch.device('cuda:0' if torch.cuda.is_available() else 'cpu')\n",
    "dtype = torch.float32"
   ]
  },
  {
   "cell_type": "code",
   "execution_count": 6,
   "id": "3832e845",
   "metadata": {},
   "outputs": [
    {
     "data": {
      "application/vnd.jupyter.widget-view+json": {
       "model_id": "88083a76b1e94674807409ea668e434e",
       "version_major": 2,
       "version_minor": 0
      },
      "text/plain": [
       "  0%|          | 0/100000 [00:00<?, ?it/s]"
      ]
     },
     "metadata": {},
     "output_type": "display_data"
    },
    {
     "ename": "IndexError",
     "evalue": "too many indices for tensor of dimension 2",
     "output_type": "error",
     "traceback": [
      "\u001b[0;31m---------------------------------------------------------------------------\u001b[0m",
      "\u001b[0;31mIndexError\u001b[0m                                Traceback (most recent call last)",
      "Input \u001b[0;32mIn [6]\u001b[0m, in \u001b[0;36m<cell line: 75>\u001b[0;34m()\u001b[0m\n\u001b[1;32m    131\u001b[0m equation \u001b[38;5;241m=\u001b[39m equation\u001b[38;5;241m.\u001b[39mto(device)\n\u001b[1;32m    132\u001b[0m answer \u001b[38;5;241m=\u001b[39m answer\u001b[38;5;241m.\u001b[39mto(device)\n\u001b[0;32m--> 133\u001b[0m logits, _, _ \u001b[38;5;241m=\u001b[39m \u001b[43mmodel\u001b[49m\u001b[43m(\u001b[49m\u001b[43mequation\u001b[49m\u001b[43m,\u001b[49m\u001b[43m \u001b[49m\u001b[43mpos\u001b[49m\u001b[38;5;241;43m=\u001b[39;49m\u001b[43mpos\u001b[49m\u001b[43m)\u001b[49m\n\u001b[1;32m    134\u001b[0m loss \u001b[38;5;241m=\u001b[39m loss_fn(logits, answer)\n\u001b[1;32m    135\u001b[0m loss\u001b[38;5;241m.\u001b[39mbackward()\n",
      "File \u001b[0;32m~/miniconda3/envs/grok/lib/python3.9/site-packages/torch/nn/modules/module.py:1110\u001b[0m, in \u001b[0;36mModule._call_impl\u001b[0;34m(self, *input, **kwargs)\u001b[0m\n\u001b[1;32m   1106\u001b[0m \u001b[38;5;66;03m# If we don't have any hooks, we want to skip the rest of the logic in\u001b[39;00m\n\u001b[1;32m   1107\u001b[0m \u001b[38;5;66;03m# this function, and just call forward.\u001b[39;00m\n\u001b[1;32m   1108\u001b[0m \u001b[38;5;28;01mif\u001b[39;00m \u001b[38;5;129;01mnot\u001b[39;00m (\u001b[38;5;28mself\u001b[39m\u001b[38;5;241m.\u001b[39m_backward_hooks \u001b[38;5;129;01mor\u001b[39;00m \u001b[38;5;28mself\u001b[39m\u001b[38;5;241m.\u001b[39m_forward_hooks \u001b[38;5;129;01mor\u001b[39;00m \u001b[38;5;28mself\u001b[39m\u001b[38;5;241m.\u001b[39m_forward_pre_hooks \u001b[38;5;129;01mor\u001b[39;00m _global_backward_hooks\n\u001b[1;32m   1109\u001b[0m         \u001b[38;5;129;01mor\u001b[39;00m _global_forward_hooks \u001b[38;5;129;01mor\u001b[39;00m _global_forward_pre_hooks):\n\u001b[0;32m-> 1110\u001b[0m     \u001b[38;5;28;01mreturn\u001b[39;00m \u001b[43mforward_call\u001b[49m\u001b[43m(\u001b[49m\u001b[38;5;241;43m*\u001b[39;49m\u001b[38;5;28;43minput\u001b[39;49m\u001b[43m,\u001b[49m\u001b[43m \u001b[49m\u001b[38;5;241;43m*\u001b[39;49m\u001b[38;5;241;43m*\u001b[39;49m\u001b[43mkwargs\u001b[49m\u001b[43m)\u001b[49m\n\u001b[1;32m   1111\u001b[0m \u001b[38;5;66;03m# Do not call functions when jit is used\u001b[39;00m\n\u001b[1;32m   1112\u001b[0m full_backward_hooks, non_full_backward_hooks \u001b[38;5;241m=\u001b[39m [], []\n",
      "File \u001b[0;32m~/code/grokking-squared/main/multigrok/transformer.py:400\u001b[0m, in \u001b[0;36mTransformer.forward\u001b[0;34m(self, x, pos, save_activations)\u001b[0m\n\u001b[1;32m    398\u001b[0m \u001b[38;5;66;03m# Return predictions for specific token\u001b[39;00m\n\u001b[1;32m    399\u001b[0m \u001b[38;5;28;01mif\u001b[39;00m pos \u001b[38;5;129;01mis\u001b[39;00m \u001b[38;5;129;01mnot\u001b[39;00m \u001b[38;5;28;01mNone\u001b[39;00m:\n\u001b[0;32m--> 400\u001b[0m     decoded \u001b[38;5;241m=\u001b[39m \u001b[43mdecoded\u001b[49m\u001b[43m[\u001b[49m\u001b[43m:\u001b[49m\u001b[43m,\u001b[49m\u001b[43m \u001b[49m\u001b[43mpos\u001b[49m\u001b[43m,\u001b[49m\u001b[43m \u001b[49m\u001b[43m:\u001b[49m\u001b[43m]\u001b[49m\n\u001b[1;32m    402\u001b[0m y_hat \u001b[38;5;241m=\u001b[39m \u001b[38;5;28mself\u001b[39m\u001b[38;5;241m.\u001b[39mlinear(decoded)\n\u001b[1;32m    403\u001b[0m \u001b[38;5;28;01mreturn\u001b[39;00m y_hat, attentions, values\n",
      "\u001b[0;31mIndexError\u001b[0m: too many indices for tensor of dimension 2"
     ]
    }
   ],
   "source": [
    "operators = list(operators)\n",
    "\n",
    "torch.set_default_dtype(dtype)\n",
    "torch.manual_seed(seed)\n",
    "random.seed(seed)\n",
    "np.random.seed(seed)\n",
    "\n",
    "dataset = ArithmeticDataset(operators, p=p, halve_abelian=halve_abelian, only_input_tokens=only_input_tokens)\n",
    "n_train, n_val = int(training_data_fraction * len(dataset)), len(dataset) - int(training_data_fraction * len(dataset)) \n",
    "train, val = torch.utils.data.random_split(dataset, [n_train, n_val], torch.Generator().manual_seed(seed))\n",
    "if batch_size == -1:\n",
    "    bs = len(train)\n",
    "elif 0 < batch_size < 1:\n",
    "    bs = int(batch_size * len(train))\n",
    "elif batch_size > 1 and batch_size <= len(train):\n",
    "    bs = int(batch_size)\n",
    "else:\n",
    "    raise Exception(f\"Invalid batch_size config {batch_size}.\")\n",
    "train_loader = torch.utils.data.DataLoader(train, batch_size=bs, shuffle=True)\n",
    "\n",
    "model = Transformer(\n",
    "    n_layers=n_layers,\n",
    "    n_heads=n_heads,\n",
    "    d_model=d_model,\n",
    "    dropout=dropout,\n",
    "    max_context_len=4, # TODO: make this a configurable parameter?\n",
    "    vocab_len=dataset.ntokens,\n",
    "    non_linearity=non_linearity,\n",
    "    weight_noise=0 # TODO: make this configurable?\n",
    ").to(device)\n",
    "\n",
    "optimizer = torch.optim.AdamW(\n",
    "    [{\n",
    "        \"params\": model.embedding.parameters(),\n",
    "        \"lr\": embedding_lr,\n",
    "        \"weight_decay\": embedding_weight_decay,\n",
    "        \"eps\": eps\n",
    "    },\n",
    "    {\n",
    "        \"params\": list(model.decoder.parameters()) + list(model.linear.parameters()),\n",
    "        \"lr\": decoder_lr,\n",
    "        \"weight_decay\": decoder_weight_decay,\n",
    "        \"eps\": eps\n",
    "    }]\n",
    ")\n",
    "\n",
    "loss_fn = nn.CrossEntropyLoss()\n",
    "\n",
    "# # prepare for logging\n",
    "# ex.info['log_steps'] = []\n",
    "# ex.info['total'] = {\n",
    "#     'train': {\n",
    "#         'loss': [],\n",
    "#         'accuracy': []\n",
    "#     },\n",
    "#     'val': {\n",
    "#         'loss': [],\n",
    "#         'accuracy': []\n",
    "#     }\n",
    "# }\n",
    "# for op in dataset.operators:\n",
    "#     ex.info[op] = {\n",
    "#     'train': {\n",
    "#         'loss': [],\n",
    "#         'accuracy': []\n",
    "#     },\n",
    "#     'val': {\n",
    "#         'loss': [],\n",
    "#         'accuracy': []\n",
    "#     }\n",
    "# }\n",
    "\n",
    "pos = dataset.sequence_length - 1\n",
    "steps = 0\n",
    "with tqdm(total=optimization_steps) as pbar:\n",
    "    for equation, answer in islice(cycle(train), optimization_steps):\n",
    "\n",
    "        if steps % log_freq == 0:\n",
    "            eval_loss_fn = nn.CrossEntropyLoss(reduction='sum')\n",
    "            with torch.no_grad():\n",
    "\n",
    "                # compute train metrics\n",
    "                train_evaluation_loader = torch.utils.data.DataLoader(train, batch_size=min(500, len(train)), shuffle=False)\n",
    "                ops_losses = defaultdict(float)\n",
    "                ops_accuracies = defaultdict(int)\n",
    "                ops_totals = defaultdict(int)\n",
    "                for e_e, e_a in train_evaluation_loader:\n",
    "                    e_e = e_e.to(device)\n",
    "                    e_a = e_a.to(device)\n",
    "                    logits, _, _ = model(e_e, pos=pos)\n",
    "                    for i in range(e_e.shape[0]):\n",
    "                        if only_input_tokens:\n",
    "                            op = dataset.operators[0]\n",
    "                        else:\n",
    "                            op = dataset.operation_from_token(e_e[i][1])\n",
    "                        ops_losses[op] += eval_loss_fn(logits[i:i+1], e_a[i:i+1]).item()\n",
    "                        predicted_token = torch.argmax(logits[i:i+1]).item()\n",
    "                        ops_accuracies[op] += int(predicted_token == e_a[i:i+1].item())\n",
    "                        ops_totals[op] += 1\n",
    "#                 for op in dataset.operators:\n",
    "#                     ex.info[op]['train']['loss'].append(ops_losses[op] / ops_totals[op])\n",
    "#                     ex.info[op]['train']['accuracy'].append(ops_accuracies[op] / ops_totals[op])\n",
    "#                 ex.info['total']['train']['loss'].append(sum(ops_losses.values()) / sum(ops_totals.values()))\n",
    "#                 ex.info['total']['train']['accuracy'].append(sum(ops_accuracies.values()) / sum(ops_totals.values()))\n",
    "\n",
    "                # compute test metrics\n",
    "                val_evaluation_loader = torch.utils.data.DataLoader(val, batch_size=min(500, len(val)), shuffle=False)\n",
    "                ops_losses = defaultdict(float)\n",
    "                ops_accuracies = defaultdict(int)\n",
    "                ops_totals = defaultdict(int)\n",
    "                for e_e, e_a in val_evaluation_loader:\n",
    "                    e_e = e_e.to(device)\n",
    "                    e_a = e_a.to(device)\n",
    "                    logits, _, _ = model(e_e, pos=pos)\n",
    "                    for i in range(e_e.shape[0]):\n",
    "                        if only_input_tokens:\n",
    "                            op = dataset.operators[0]\n",
    "                        else:\n",
    "                            op = dataset.operation_from_token(e_e[i][1])\n",
    "                        ops_losses[op] += eval_loss_fn(logits[i:i+1], e_a[i:i+1]).item()\n",
    "                        predicted_token = torch.argmax(logits[i:i+1]).item()\n",
    "                        ops_accuracies[op] += int(predicted_token == e_a[i:i+1].item())\n",
    "                        ops_totals[op] += 1\n",
    "#                 for op in dataset.operators:\n",
    "#                     ex.info[op]['val']['loss'].append(ops_losses[op] / ops_totals[op])\n",
    "#                     ex.info[op]['val']['accuracy'].append(ops_accuracies[op] / ops_totals[op])\n",
    "#                 ex.info['total']['val']['loss'].append(sum(ops_losses.values()) / sum(ops_totals.values()))\n",
    "#                 ex.info['total']['val']['accuracy'].append(sum(ops_accuracies.values()) / sum(ops_totals.values()))\n",
    "#             pbar.set_description(\"{0:2.1f}% | {1:2.1f}%\".format(ex.info['total']['train']['accuracy'][-1] * 100, ex.info['total']['val']['accuracy'][-1] * 100))\n",
    "\n",
    "        equation = equation.to(device)\n",
    "        answer = answer.to(device)\n",
    "        logits, _, _ = model(equation, pos=pos)\n",
    "        loss = loss_fn(logits, answer)\n",
    "        loss.backward()\n",
    "        optimizer.step()\n",
    "        steps += 1\n",
    "        pbar.update(1)\n"
   ]
  },
  {
   "cell_type": "code",
   "execution_count": 11,
   "id": "c76f390d",
   "metadata": {},
   "outputs": [],
   "source": [
    "equation, answer = next(islice(cycle(train), optimization_steps))"
   ]
  },
  {
   "cell_type": "code",
   "execution_count": null,
   "id": "e258f4e5",
   "metadata": {},
   "outputs": [],
   "source": []
  },
  {
   "cell_type": "code",
   "execution_count": null,
   "id": "cf51249e",
   "metadata": {},
   "outputs": [],
   "source": []
  },
  {
   "cell_type": "code",
   "execution_count": null,
   "id": "d90cac32",
   "metadata": {},
   "outputs": [],
   "source": []
  },
  {
   "cell_type": "code",
   "execution_count": null,
   "id": "813aa515",
   "metadata": {},
   "outputs": [],
   "source": []
  },
  {
   "cell_type": "code",
   "execution_count": null,
   "id": "227d9559",
   "metadata": {},
   "outputs": [],
   "source": []
  },
  {
   "cell_type": "code",
   "execution_count": null,
   "id": "1464c127",
   "metadata": {},
   "outputs": [],
   "source": []
  },
  {
   "cell_type": "code",
   "execution_count": null,
   "id": "30260df2",
   "metadata": {},
   "outputs": [],
   "source": []
  },
  {
   "cell_type": "code",
   "execution_count": null,
   "id": "167832b3",
   "metadata": {},
   "outputs": [],
   "source": []
  },
  {
   "cell_type": "code",
   "execution_count": null,
   "id": "26f2d327",
   "metadata": {},
   "outputs": [],
   "source": []
  },
  {
   "cell_type": "code",
   "execution_count": null,
   "id": "6adccc2e",
   "metadata": {},
   "outputs": [],
   "source": [
    "torch.set_default_dtype(dtype)\n",
    "torch.manual_seed(seed)\n",
    "random.seed(seed)\n",
    "np.random.seed(seed)"
   ]
  },
  {
   "cell_type": "code",
   "execution_count": null,
   "id": "5c924482",
   "metadata": {},
   "outputs": [],
   "source": [
    "dataset = ArithmeticDataset(operators, p=p, halve_abelian=halve_abelian, only_input_tokens=only_input_tokens)\n",
    "n_train, n_val = int(training_data_fraction * len(dataset)), len(dataset) - int(training_data_fraction * len(dataset)) \n",
    "train, val = torch.utils.data.random_split(dataset, [n_train, n_val], torch.Generator().manual_seed(seed))\n",
    "if batch_size == -1:\n",
    "    bs = len(train)\n",
    "elif 0 < batch_size < 1:\n",
    "    bs = int(batch_size * len(train))\n",
    "elif batch_size > 1 and batch_size <= len(train):\n",
    "    bs = int(batch_size)\n",
    "else:\n",
    "    raise Exception(f\"Invalid batch_size config {batch_size}.\")\n",
    "train_loader = torch.utils.data.DataLoader(train, batch_size=bs, shuffle=True)"
   ]
  },
  {
   "cell_type": "code",
   "execution_count": null,
   "id": "44dc29d3",
   "metadata": {},
   "outputs": [],
   "source": [
    "blah, bleh = next(iter(train_loader))"
   ]
  },
  {
   "cell_type": "code",
   "execution_count": null,
   "id": "571f8a65",
   "metadata": {},
   "outputs": [],
   "source": [
    "bleh.shape"
   ]
  },
  {
   "cell_type": "code",
   "execution_count": null,
   "id": "b4ac696f",
   "metadata": {},
   "outputs": [],
   "source": [
    "model = Transformer(\n",
    "    n_layers=n_layers,\n",
    "    n_heads=n_heads,\n",
    "    d_model=d_model,\n",
    "    dropout=dropout,\n",
    "    max_context_len=4, # TODO: make this a configurable parameter?\n",
    "    vocab_len=dataset.ntokens,\n",
    "    non_linearity=non_linearity,\n",
    "    weight_noise=0 # TODO: make this configurable?\n",
    ").to(device)"
   ]
  },
  {
   "cell_type": "code",
   "execution_count": null,
   "id": "cbeb6d27",
   "metadata": {},
   "outputs": [],
   "source": [
    "eval_loss_fn = nn.CrossEntropyLoss(reduction='sum')"
   ]
  },
  {
   "cell_type": "code",
   "execution_count": null,
   "id": "833a0e17",
   "metadata": {},
   "outputs": [],
   "source": [
    "logits, _, _ = model(blah.to(device), pos=3)"
   ]
  },
  {
   "cell_type": "code",
   "execution_count": null,
   "id": "6f1cc475",
   "metadata": {},
   "outputs": [],
   "source": [
    "eval_loss_fn(logits, bleh.to(device))"
   ]
  },
  {
   "cell_type": "code",
   "execution_count": null,
   "id": "1a37cf93",
   "metadata": {},
   "outputs": [],
   "source": [
    "eval_loss_fn(logits[10:11], bleh[10:11].to(device))"
   ]
  },
  {
   "cell_type": "code",
   "execution_count": null,
   "id": "5a5de82e",
   "metadata": {},
   "outputs": [],
   "source": [
    "torch.argmax(logits[10:11]).item()"
   ]
  },
  {
   "cell_type": "code",
   "execution_count": null,
   "id": "6c0da018",
   "metadata": {},
   "outputs": [],
   "source": [
    "logits[10:11]"
   ]
  },
  {
   "cell_type": "code",
   "execution_count": null,
   "id": "fb939e97",
   "metadata": {},
   "outputs": [],
   "source": [
    "int(5 == 4)"
   ]
  },
  {
   "cell_type": "code",
   "execution_count": null,
   "id": "1531090a",
   "metadata": {},
   "outputs": [],
   "source": [
    "d = defaultdict(int)"
   ]
  },
  {
   "cell_type": "code",
   "execution_count": null,
   "id": "d35d22fd",
   "metadata": {},
   "outputs": [],
   "source": [
    "d['+'] += 1"
   ]
  },
  {
   "cell_type": "code",
   "execution_count": null,
   "id": "dc9419d1",
   "metadata": {},
   "outputs": [],
   "source": [
    "bleh[10:11].item()"
   ]
  },
  {
   "cell_type": "code",
   "execution_count": null,
   "id": "513bc100",
   "metadata": {},
   "outputs": [],
   "source": [
    "\"{0:2.1f}% | {1:2.1f}%\".format(30.2823, 10.0123)"
   ]
  },
  {
   "cell_type": "code",
   "execution_count": null,
   "id": "64bc8c0e",
   "metadata": {},
   "outputs": [],
   "source": [
    "\"{0:2.1f}% | {1:2.1f}%\".format(0.1234 * 100, 0.1234 * 100)"
   ]
  },
  {
   "cell_type": "code",
   "execution_count": null,
   "id": "b17bf4f6",
   "metadata": {},
   "outputs": [],
   "source": []
  },
  {
   "cell_type": "code",
   "execution_count": null,
   "id": "e53406a5",
   "metadata": {},
   "outputs": [],
   "source": []
  },
  {
   "cell_type": "code",
   "execution_count": null,
   "id": "1a27645c",
   "metadata": {},
   "outputs": [],
   "source": []
  },
  {
   "cell_type": "code",
   "execution_count": null,
   "id": "97222c79",
   "metadata": {},
   "outputs": [],
   "source": []
  },
  {
   "cell_type": "code",
   "execution_count": null,
   "id": "8df087ff",
   "metadata": {},
   "outputs": [],
   "source": []
  },
  {
   "cell_type": "code",
   "execution_count": null,
   "id": "97551dd0",
   "metadata": {},
   "outputs": [],
   "source": [
    "bleh.shape"
   ]
  },
  {
   "cell_type": "code",
   "execution_count": null,
   "id": "2fcfc93d",
   "metadata": {},
   "outputs": [],
   "source": []
  },
  {
   "cell_type": "code",
   "execution_count": null,
   "id": "e466f267",
   "metadata": {},
   "outputs": [],
   "source": [
    "eval_loss_fn = nn.CrossEntropyLoss(reduction='sum')\n",
    "ops_losses = {}\n",
    "ops_accuracies = {}\n",
    "with torch.no_grad():\n",
    "    train_evaluation_loader = torch.utils.data.DataLoader(train, batch_size=min(500, len(train)), shuffle=False)\n",
    "    val_evaluation_loader = torch.utils.data.DataLoader(val, batch_size=min(500, len(val)), shuffle=False)\n",
    "    for t_e_e, t_e_a in train_evaluation_loader:\n",
    "        t_e_e = t_e_e.to(device)\n",
    "        t_e_a = t_e_a.to(device)\n",
    "        logits, _, _ = model(t_e_e, pos=pos)\n",
    "        for i in range(t_e_e.shape[0]):\n",
    "            if only_input_tokens:\n",
    "                op = dataset.operations[0]\n",
    "            else:\n",
    "                op = dataset.operation_from_token(t_e_e[i][1])\n",
    "            ops_losses[op] += eval_loss_fn(logits[i:i+1], t_e_a[i:i+1])\n",
    "            predicted_token = "
   ]
  },
  {
   "cell_type": "code",
   "execution_count": null,
   "id": "d57acca4",
   "metadata": {},
   "outputs": [],
   "source": []
  },
  {
   "cell_type": "code",
   "execution_count": null,
   "id": "92c8b251",
   "metadata": {},
   "outputs": [],
   "source": []
  },
  {
   "cell_type": "code",
   "execution_count": null,
   "id": "3115d7a5",
   "metadata": {},
   "outputs": [],
   "source": []
  },
  {
   "cell_type": "code",
   "execution_count": null,
   "id": "72fd9ba7",
   "metadata": {},
   "outputs": [],
   "source": []
  },
  {
   "cell_type": "code",
   "execution_count": null,
   "id": "4f3730b5",
   "metadata": {},
   "outputs": [],
   "source": []
  },
  {
   "cell_type": "code",
   "execution_count": null,
   "id": "b1317612",
   "metadata": {},
   "outputs": [],
   "source": []
  },
  {
   "cell_type": "code",
   "execution_count": null,
   "id": "ee5cab3a",
   "metadata": {},
   "outputs": [],
   "source": []
  },
  {
   "cell_type": "code",
   "execution_count": null,
   "id": "db59e4ce",
   "metadata": {},
   "outputs": [],
   "source": []
  },
  {
   "cell_type": "code",
   "execution_count": null,
   "id": "c5d5e3db",
   "metadata": {},
   "outputs": [],
   "source": []
  },
  {
   "cell_type": "code",
   "execution_count": null,
   "id": "6300429e",
   "metadata": {},
   "outputs": [],
   "source": []
  },
  {
   "cell_type": "code",
   "execution_count": null,
   "id": "1612558b",
   "metadata": {},
   "outputs": [],
   "source": []
  },
  {
   "cell_type": "code",
   "execution_count": null,
   "id": "5cd4d56c",
   "metadata": {},
   "outputs": [],
   "source": []
  },
  {
   "cell_type": "code",
   "execution_count": null,
   "id": "bdf1a09c",
   "metadata": {},
   "outputs": [],
   "source": []
  },
  {
   "cell_type": "code",
   "execution_count": null,
   "id": "7225acd6",
   "metadata": {},
   "outputs": [],
   "source": []
  },
  {
   "cell_type": "code",
   "execution_count": null,
   "id": "5a6449d1",
   "metadata": {},
   "outputs": [],
   "source": []
  },
  {
   "cell_type": "code",
   "execution_count": null,
   "id": "9d02d068",
   "metadata": {},
   "outputs": [],
   "source": [
    "import numpy as np\n",
    "import matplotlib.pyplot as plt\n",
    "\n",
    "import torch\n",
    "import torch.nn as nn\n",
    "\n",
    "# from grok import data, transformer\n",
    "\n",
    "from multigrok import data, transformer\n",
    "# from x_transformers import TransformerWrapper, Decoder"
   ]
  },
  {
   "cell_type": "code",
   "execution_count": null,
   "id": "2c13492e",
   "metadata": {},
   "outputs": [],
   "source": []
  },
  {
   "cell_type": "code",
   "execution_count": null,
   "id": "3ed22996",
   "metadata": {},
   "outputs": [],
   "source": []
  },
  {
   "cell_type": "code",
   "execution_count": null,
   "id": "2ba46bfb",
   "metadata": {},
   "outputs": [],
   "source": []
  },
  {
   "cell_type": "code",
   "execution_count": null,
   "id": "5f509552",
   "metadata": {},
   "outputs": [],
   "source": []
  },
  {
   "cell_type": "code",
   "execution_count": null,
   "id": "0dd80f91",
   "metadata": {},
   "outputs": [],
   "source": []
  },
  {
   "cell_type": "code",
   "execution_count": null,
   "id": "62dc89c4",
   "metadata": {},
   "outputs": [],
   "source": []
  },
  {
   "cell_type": "code",
   "execution_count": null,
   "id": "62e22ea3",
   "metadata": {},
   "outputs": [],
   "source": []
  },
  {
   "cell_type": "code",
   "execution_count": null,
   "id": "bf7f9fac",
   "metadata": {},
   "outputs": [],
   "source": [
    "dataset = data.ArithmeticDataset('+', p=59)"
   ]
  },
  {
   "cell_type": "code",
   "execution_count": null,
   "id": "a1859661",
   "metadata": {},
   "outputs": [],
   "source": []
  },
  {
   "cell_type": "code",
   "execution_count": null,
   "id": "181aad3b",
   "metadata": {},
   "outputs": [],
   "source": []
  },
  {
   "cell_type": "code",
   "execution_count": null,
   "id": "2328174b",
   "metadata": {},
   "outputs": [],
   "source": []
  },
  {
   "cell_type": "code",
   "execution_count": null,
   "id": "86343f11",
   "metadata": {},
   "outputs": [],
   "source": []
  },
  {
   "cell_type": "code",
   "execution_count": null,
   "id": "47e8b127",
   "metadata": {},
   "outputs": [],
   "source": []
  },
  {
   "cell_type": "code",
   "execution_count": null,
   "id": "2b78593b",
   "metadata": {},
   "outputs": [],
   "source": []
  },
  {
   "cell_type": "code",
   "execution_count": null,
   "id": "042857b2",
   "metadata": {},
   "outputs": [],
   "source": []
  },
  {
   "cell_type": "code",
   "execution_count": null,
   "id": "6e6888ac",
   "metadata": {},
   "outputs": [],
   "source": []
  },
  {
   "cell_type": "code",
   "execution_count": null,
   "id": "50cbee6c",
   "metadata": {},
   "outputs": [],
   "source": []
  },
  {
   "cell_type": "code",
   "execution_count": null,
   "id": "31272627",
   "metadata": {},
   "outputs": [],
   "source": []
  },
  {
   "cell_type": "code",
   "execution_count": null,
   "id": "59dc9163",
   "metadata": {},
   "outputs": [],
   "source": []
  },
  {
   "cell_type": "code",
   "execution_count": null,
   "id": "6423f9e2",
   "metadata": {},
   "outputs": [],
   "source": []
  },
  {
   "cell_type": "code",
   "execution_count": null,
   "id": "825ca0a3",
   "metadata": {},
   "outputs": [],
   "source": []
  },
  {
   "cell_type": "code",
   "execution_count": null,
   "id": "724a9b3a",
   "metadata": {},
   "outputs": [],
   "source": []
  },
  {
   "cell_type": "code",
   "execution_count": null,
   "id": "b68e92f0",
   "metadata": {},
   "outputs": [],
   "source": [
    "len(dataset)"
   ]
  },
  {
   "cell_type": "code",
   "execution_count": null,
   "id": "02a8432a",
   "metadata": {},
   "outputs": [],
   "source": [
    "dataset[10]"
   ]
  },
  {
   "cell_type": "code",
   "execution_count": null,
   "id": "ffd087ac",
   "metadata": {},
   "outputs": [],
   "source": [
    "n = 3000\n",
    "dataset.readable_equation(dataset[n][0]), dataset[n][1].item()"
   ]
  },
  {
   "cell_type": "code",
   "execution_count": null,
   "id": "f8a4d409",
   "metadata": {},
   "outputs": [],
   "source": [
    "dataset.ntokens"
   ]
  },
  {
   "cell_type": "code",
   "execution_count": null,
   "id": "b005c9af",
   "metadata": {},
   "outputs": [],
   "source": [
    "train, val = torch.utils.data.random_split(dataset, [len(dataset) // 2, len(dataset) // 2], torch.Generator().manual_seed(0))\n"
   ]
  },
  {
   "cell_type": "code",
   "execution_count": null,
   "id": "08c806f0",
   "metadata": {},
   "outputs": [],
   "source": [
    "train[0]"
   ]
  },
  {
   "cell_type": "code",
   "execution_count": null,
   "id": "518d4af0",
   "metadata": {},
   "outputs": [],
   "source": [
    "n = 10\n",
    "print(train[n])\n",
    "dataset.readable_equation(train[n][0])"
   ]
  },
  {
   "cell_type": "code",
   "execution_count": null,
   "id": "0b23b3c1",
   "metadata": {},
   "outputs": [],
   "source": [
    "torch.optim.AdamW?"
   ]
  },
  {
   "cell_type": "code",
   "execution_count": null,
   "id": "ce3bdbfa",
   "metadata": {},
   "outputs": [],
   "source": [
    "torch.utils.data.DataLoader?"
   ]
  },
  {
   "cell_type": "code",
   "execution_count": null,
   "id": "e70d37f7",
   "metadata": {},
   "outputs": [],
   "source": [
    "model.forward?"
   ]
  },
  {
   "cell_type": "code",
   "execution_count": null,
   "id": "519d6a58",
   "metadata": {},
   "outputs": [],
   "source": [
    "nn.CrossEntropyLoss(reduction='sum')"
   ]
  },
  {
   "cell_type": "code",
   "execution_count": null,
   "id": "856d8ae7",
   "metadata": {},
   "outputs": [],
   "source": []
  },
  {
   "cell_type": "code",
   "execution_count": null,
   "id": "60b5f54a",
   "metadata": {},
   "outputs": [],
   "source": [
    "p = 59\n",
    "for a in range(1, p):\n",
    "    a_inverse = a**(p-2) % p\n",
    "    assert (a * a_inverse) % p == 1, f\"{a} {a_inverse}\""
   ]
  },
  {
   "cell_type": "code",
   "execution_count": null,
   "id": "281b7bea",
   "metadata": {},
   "outputs": [],
   "source": [
    "nn.CrossEntropyLoss?"
   ]
  },
  {
   "cell_type": "code",
   "execution_count": null,
   "id": "5b2aac7e",
   "metadata": {},
   "outputs": [],
   "source": [
    "x = torch.randint(low=0, high=331, size=(500, 4))"
   ]
  },
  {
   "cell_type": "code",
   "execution_count": null,
   "id": "58590ece",
   "metadata": {},
   "outputs": [],
   "source": [
    "x[499:500]"
   ]
  },
  {
   "cell_type": "code",
   "execution_count": null,
   "id": "8554fee5",
   "metadata": {},
   "outputs": [],
   "source": [
    "x[-1]"
   ]
  },
  {
   "cell_type": "code",
   "execution_count": null,
   "id": "a10c8d86",
   "metadata": {},
   "outputs": [],
   "source": []
  },
  {
   "cell_type": "code",
   "execution_count": null,
   "id": "f2d9f303",
   "metadata": {},
   "outputs": [],
   "source": []
  },
  {
   "cell_type": "code",
   "execution_count": null,
   "id": "75fcb46e",
   "metadata": {},
   "outputs": [],
   "source": []
  },
  {
   "cell_type": "code",
   "execution_count": null,
   "id": "de9ceb6f",
   "metadata": {},
   "outputs": [],
   "source": []
  },
  {
   "cell_type": "code",
   "execution_count": null,
   "id": "b7a4b963",
   "metadata": {},
   "outputs": [],
   "source": [
    "data.ArithmeticDataset.make_data('+')"
   ]
  },
  {
   "cell_type": "code",
   "execution_count": null,
   "id": "73288d70",
   "metadata": {},
   "outputs": [],
   "source": [
    "tokenizer = data.ArithmeticTokenizer()"
   ]
  },
  {
   "cell_type": "code",
   "execution_count": null,
   "id": "e712b859",
   "metadata": {},
   "outputs": [],
   "source": [
    "model = transformer.Transformer(n_layers=3, \n",
    "                n_heads=8, \n",
    "                d_model=256, \n",
    "                max_context_len=6,\n",
    "                vocab_len=150)"
   ]
  },
  {
   "cell_type": "code",
   "execution_count": null,
   "id": "f10f6488",
   "metadata": {},
   "outputs": [],
   "source": [
    "# model = TransformerWrapper(\n",
    "#     num_tokens=150,\n",
    "#     max_seq_len=6,\n",
    "#     attn_layers=Decoder(\n",
    "#         dim=256,\n",
    "#         heads=8,\n",
    "#         depth=3\n",
    "#     )\n",
    "# )"
   ]
  },
  {
   "cell_type": "code",
   "execution_count": null,
   "id": "7d553349",
   "metadata": {},
   "outputs": [],
   "source": [
    "# activations = {}\n",
    "# def hook(module, input, output):\n",
    "#     activations[module] = output"
   ]
  },
  {
   "cell_type": "code",
   "execution_count": null,
   "id": "0091f630",
   "metadata": {},
   "outputs": [],
   "source": [
    "activations_inputs = {}\n",
    "activations_outputs = {}\n",
    "def create_hook_for_named_module(name):\n",
    "    def hook(module, input, output):\n",
    "        activations_inputs[name] = input\n",
    "        activations_outputs[name] = output\n",
    "    return hook\n",
    "\n",
    "hooks = []\n",
    "for name, module in model.named_modules():\n",
    "    h = module.register_forward_hook(create_hook_for_named_module(name))\n",
    "    hooks.append(h)"
   ]
  },
  {
   "cell_type": "code",
   "execution_count": null,
   "id": "71a7b56c",
   "metadata": {},
   "outputs": [],
   "source": [
    "x = tokenizer.encode([\"1 + 2\", \"2 + 3 + 4 =\"])\n",
    "print(x.shape)\n",
    "y = model(x)[0]"
   ]
  },
  {
   "cell_type": "code",
   "execution_count": null,
   "id": "1bd9d685",
   "metadata": {},
   "outputs": [],
   "source": [
    "for name, _ in model.named_modules():\n",
    "    print(name)"
   ]
  },
  {
   "cell_type": "code",
   "execution_count": null,
   "id": "0e530f03",
   "metadata": {},
   "outputs": [],
   "source": []
  },
  {
   "cell_type": "code",
   "execution_count": null,
   "id": "a8088f85",
   "metadata": {},
   "outputs": [],
   "source": []
  },
  {
   "cell_type": "code",
   "execution_count": null,
   "id": "8069363d",
   "metadata": {},
   "outputs": [],
   "source": []
  },
  {
   "cell_type": "code",
   "execution_count": null,
   "id": "84ea96c6",
   "metadata": {},
   "outputs": [],
   "source": []
  },
  {
   "cell_type": "code",
   "execution_count": null,
   "id": "9e78e89f",
   "metadata": {},
   "outputs": [],
   "source": [
    "activations_outputs['embedding']"
   ]
  },
  {
   "cell_type": "code",
   "execution_count": null,
   "id": "2d375aaa",
   "metadata": {},
   "outputs": [],
   "source": [
    "activations_inputs['decoder.blocks.0.self_attn'][0].shape"
   ]
  },
  {
   "cell_type": "code",
   "execution_count": null,
   "id": "32d62397",
   "metadata": {},
   "outputs": [],
   "source": [
    "activations_inputs['decoder']"
   ]
  },
  {
   "cell_type": "code",
   "execution_count": null,
   "id": "defa01be",
   "metadata": {},
   "outputs": [],
   "source": []
  },
  {
   "cell_type": "code",
   "execution_count": null,
   "id": "b578a8cc",
   "metadata": {},
   "outputs": [],
   "source": []
  },
  {
   "cell_type": "code",
   "execution_count": null,
   "id": "e77e8025",
   "metadata": {},
   "outputs": [],
   "source": []
  },
  {
   "cell_type": "code",
   "execution_count": null,
   "id": "236fbe86",
   "metadata": {},
   "outputs": [],
   "source": []
  },
  {
   "cell_type": "code",
   "execution_count": null,
   "id": "774c9003",
   "metadata": {},
   "outputs": [],
   "source": []
  },
  {
   "cell_type": "code",
   "execution_count": null,
   "id": "e6192ab3",
   "metadata": {},
   "outputs": [],
   "source": []
  },
  {
   "cell_type": "code",
   "execution_count": null,
   "id": "9d7ae98d",
   "metadata": {},
   "outputs": [],
   "source": []
  },
  {
   "cell_type": "code",
   "execution_count": null,
   "id": "f99a91e0",
   "metadata": {},
   "outputs": [],
   "source": []
  },
  {
   "cell_type": "code",
   "execution_count": null,
   "id": "56b81965",
   "metadata": {},
   "outputs": [],
   "source": []
  },
  {
   "cell_type": "code",
   "execution_count": null,
   "id": "0bf7f390",
   "metadata": {},
   "outputs": [],
   "source": []
  },
  {
   "cell_type": "code",
   "execution_count": null,
   "id": "9d41ddcb",
   "metadata": {},
   "outputs": [],
   "source": []
  },
  {
   "cell_type": "code",
   "execution_count": null,
   "id": "274f3700",
   "metadata": {},
   "outputs": [],
   "source": [
    "(torch.rand_like(model.embedding.weight) * 0.02).dtype"
   ]
  },
  {
   "cell_type": "code",
   "execution_count": null,
   "id": "42a0fdf6",
   "metadata": {},
   "outputs": [],
   "source": [
    "activations_outputs"
   ]
  },
  {
   "cell_type": "code",
   "execution_count": null,
   "id": "fbce67ae",
   "metadata": {},
   "outputs": [],
   "source": [
    "activation_inputs"
   ]
  },
  {
   "cell_type": "code",
   "execution_count": null,
   "id": "8aac27a0",
   "metadata": {},
   "outputs": [],
   "source": [
    "activations"
   ]
  },
  {
   "cell_type": "code",
   "execution_count": null,
   "id": "6d7c83c8",
   "metadata": {},
   "outputs": [],
   "source": []
  },
  {
   "cell_type": "code",
   "execution_count": null,
   "id": "151a8560",
   "metadata": {},
   "outputs": [],
   "source": [
    "activations['embedding'].shape"
   ]
  },
  {
   "cell_type": "code",
   "execution_count": null,
   "id": "8386942d",
   "metadata": {},
   "outputs": [],
   "source": [
    "for name, _ in model.named_modules():\n",
    "    print(name)"
   ]
  },
  {
   "cell_type": "code",
   "execution_count": null,
   "id": "b8853d73",
   "metadata": {},
   "outputs": [],
   "source": []
  },
  {
   "cell_type": "code",
   "execution_count": null,
   "id": "fd9667b6",
   "metadata": {},
   "outputs": [],
   "source": []
  },
  {
   "cell_type": "code",
   "execution_count": null,
   "id": "7afcf450",
   "metadata": {},
   "outputs": [],
   "source": [
    "activations['embedding'].dtype"
   ]
  },
  {
   "cell_type": "code",
   "execution_count": null,
   "id": "78e43689",
   "metadata": {},
   "outputs": [],
   "source": [
    "model.decoder.blocks[0].self_attn.attn_heads[0]"
   ]
  },
  {
   "cell_type": "code",
   "execution_count": null,
   "id": "5d71c29d",
   "metadata": {},
   "outputs": [],
   "source": [
    "model.decoder.blocks[0].self_attn.attn_heads[0].Wq.weight.dtype"
   ]
  },
  {
   "cell_type": "code",
   "execution_count": null,
   "id": "06a49692",
   "metadata": {},
   "outputs": [],
   "source": [
    "for i in range(8):\n",
    "    print(model.decoder.blocks[0].self_attn.attn_heads[i].Wq.weight.dtype)"
   ]
  },
  {
   "cell_type": "code",
   "execution_count": null,
   "id": "456d2971",
   "metadata": {},
   "outputs": [],
   "source": [
    "for parameter in model.parameters():\n",
    "    print(parameter.dtype)"
   ]
  },
  {
   "cell_type": "code",
   "execution_count": null,
   "id": "a91f2803",
   "metadata": {},
   "outputs": [],
   "source": []
  },
  {
   "cell_type": "code",
   "execution_count": null,
   "id": "a4a6a39b",
   "metadata": {},
   "outputs": [],
   "source": []
  },
  {
   "cell_type": "code",
   "execution_count": null,
   "id": "e16e86ee",
   "metadata": {},
   "outputs": [],
   "source": []
  },
  {
   "cell_type": "code",
   "execution_count": null,
   "id": "30350622",
   "metadata": {},
   "outputs": [],
   "source": []
  },
  {
   "cell_type": "code",
   "execution_count": null,
   "id": "1bcb3133",
   "metadata": {},
   "outputs": [],
   "source": [
    "activations[model.embedding].dtype"
   ]
  },
  {
   "cell_type": "code",
   "execution_count": null,
   "id": "f824c719",
   "metadata": {},
   "outputs": [],
   "source": [
    "for name, module in model.named_modules():\n",
    "    print(name)"
   ]
  },
  {
   "cell_type": "code",
   "execution_count": null,
   "id": "0e077c83",
   "metadata": {},
   "outputs": [],
   "source": []
  },
  {
   "cell_type": "code",
   "execution_count": null,
   "id": "14d3d827",
   "metadata": {},
   "outputs": [],
   "source": [
    "model.decoder.blocks[1]"
   ]
  },
  {
   "cell_type": "code",
   "execution_count": null,
   "id": "92752a69",
   "metadata": {},
   "outputs": [],
   "source": []
  },
  {
   "cell_type": "code",
   "execution_count": null,
   "id": "a9fa5da1",
   "metadata": {},
   "outputs": [],
   "source": []
  },
  {
   "cell_type": "code",
   "execution_count": null,
   "id": "c6a23347",
   "metadata": {},
   "outputs": [],
   "source": []
  },
  {
   "cell_type": "code",
   "execution_count": null,
   "id": "1da93aef",
   "metadata": {},
   "outputs": [],
   "source": []
  },
  {
   "cell_type": "code",
   "execution_count": null,
   "id": "14faa8b7",
   "metadata": {},
   "outputs": [],
   "source": [
    "x = torch.randint(low=0, high=150, size=(10, 6))"
   ]
  },
  {
   "cell_type": "code",
   "execution_count": null,
   "id": "344cb0f4",
   "metadata": {},
   "outputs": [],
   "source": [
    "y = model(x)"
   ]
  },
  {
   "cell_type": "code",
   "execution_count": null,
   "id": "0e38d2a5",
   "metadata": {},
   "outputs": [],
   "source": [
    "y[0].shape"
   ]
  },
  {
   "cell_type": "code",
   "execution_count": null,
   "id": "db6b3ada",
   "metadata": {},
   "outputs": [],
   "source": [
    "model(x, pos=5)[0].shape"
   ]
  },
  {
   "cell_type": "code",
   "execution_count": null,
   "id": "998d1021",
   "metadata": {},
   "outputs": [],
   "source": []
  },
  {
   "cell_type": "code",
   "execution_count": null,
   "id": "d088886c",
   "metadata": {},
   "outputs": [],
   "source": [
    "model(tokenizer.encode([\"1 + 2 =\", \"2 + 3 =\"]), pos=3)[0].shape"
   ]
  },
  {
   "cell_type": "code",
   "execution_count": null,
   "id": "0016fa82",
   "metadata": {},
   "outputs": [],
   "source": []
  },
  {
   "cell_type": "code",
   "execution_count": null,
   "id": "4e3cd8dc",
   "metadata": {},
   "outputs": [],
   "source": [
    "transformer.Transformer"
   ]
  },
  {
   "cell_type": "code",
   "execution_count": null,
   "id": "e24fee7e",
   "metadata": {},
   "outputs": [],
   "source": [
    "model"
   ]
  },
  {
   "cell_type": "code",
   "execution_count": null,
   "id": "441e4294",
   "metadata": {},
   "outputs": [],
   "source": []
  },
  {
   "cell_type": "code",
   "execution_count": null,
   "id": "7adb7d7a",
   "metadata": {},
   "outputs": [],
   "source": [
    "from phasegrok import models"
   ]
  },
  {
   "cell_type": "code",
   "execution_count": null,
   "id": "5353b056",
   "metadata": {},
   "outputs": [],
   "source": [
    "models.Transformer(vocab_len=150, embedding_dim=256, output_dim=150, depth=3, concat=True)"
   ]
  },
  {
   "cell_type": "code",
   "execution_count": null,
   "id": "4c92c8f4",
   "metadata": {},
   "outputs": [],
   "source": []
  },
  {
   "cell_type": "code",
   "execution_count": null,
   "id": "363d4e1c",
   "metadata": {},
   "outputs": [],
   "source": []
  },
  {
   "cell_type": "code",
   "execution_count": null,
   "id": "90a37c8e",
   "metadata": {},
   "outputs": [],
   "source": []
  },
  {
   "cell_type": "code",
   "execution_count": null,
   "id": "f17e4211",
   "metadata": {},
   "outputs": [],
   "source": []
  },
  {
   "cell_type": "code",
   "execution_count": null,
   "id": "0badbcf6",
   "metadata": {},
   "outputs": [],
   "source": []
  },
  {
   "cell_type": "code",
   "execution_count": null,
   "id": "f71c486b",
   "metadata": {},
   "outputs": [],
   "source": []
  },
  {
   "cell_type": "code",
   "execution_count": null,
   "id": "b463949d",
   "metadata": {},
   "outputs": [],
   "source": []
  },
  {
   "cell_type": "code",
   "execution_count": null,
   "id": "0e28f60c",
   "metadata": {},
   "outputs": [],
   "source": []
  },
  {
   "cell_type": "code",
   "execution_count": null,
   "id": "85518e0a",
   "metadata": {},
   "outputs": [],
   "source": [
    "model(x)[0].shape"
   ]
  },
  {
   "cell_type": "code",
   "execution_count": null,
   "id": "eab8185c",
   "metadata": {},
   "outputs": [],
   "source": []
  },
  {
   "cell_type": "code",
   "execution_count": null,
   "id": "f8e58549",
   "metadata": {},
   "outputs": [],
   "source": []
  },
  {
   "cell_type": "code",
   "execution_count": null,
   "id": "90602955",
   "metadata": {},
   "outputs": [],
   "source": []
  },
  {
   "cell_type": "code",
   "execution_count": null,
   "id": "ed7a096e",
   "metadata": {},
   "outputs": [],
   "source": []
  },
  {
   "cell_type": "code",
   "execution_count": null,
   "id": "f7c2a407",
   "metadata": {},
   "outputs": [],
   "source": []
  },
  {
   "cell_type": "code",
   "execution_count": null,
   "id": "9d16d8fe",
   "metadata": {},
   "outputs": [],
   "source": []
  },
  {
   "cell_type": "code",
   "execution_count": null,
   "id": "00dc9451",
   "metadata": {},
   "outputs": [],
   "source": []
  },
  {
   "cell_type": "code",
   "execution_count": null,
   "id": "a8687ba4",
   "metadata": {},
   "outputs": [],
   "source": []
  }
 ],
 "metadata": {
  "kernelspec": {
   "display_name": "Python 3 (ipykernel)",
   "language": "python",
   "name": "python3"
  },
  "language_info": {
   "codemirror_mode": {
    "name": "ipython",
    "version": 3
   },
   "file_extension": ".py",
   "mimetype": "text/x-python",
   "name": "python",
   "nbconvert_exporter": "python",
   "pygments_lexer": "ipython3",
   "version": "3.9.12"
  }
 },
 "nbformat": 4,
 "nbformat_minor": 5
}
