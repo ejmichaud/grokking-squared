{
 "cells": [
  {
   "cell_type": "code",
   "execution_count": 3,
   "metadata": {},
   "outputs": [],
   "source": [
    "import numpy as np\n",
    "import scipy.linalg\n",
    "import scipy\n",
    "\n",
    "p = 10\n",
    "all_num = int(p*(p+1)/2)\n",
    "xx_id = []\n",
    "yy_id = []\n",
    "\n",
    "for i in range(p):\n",
    "    for j in range(i,p):\n",
    "        xx_id.append(i)\n",
    "        yy_id.append(j)\n",
    "\n",
    "xx_id = np.array(xx_id)\n",
    "yy_id = np.array(yy_id)"
   ]
  },
  {
   "cell_type": "code",
   "execution_count": 4,
   "metadata": {},
   "outputs": [
    {
     "name": "stderr",
     "output_type": "stream",
     "text": [
      "/var/folders/6j/b6y80djd4nb5hl73rv3sv8y80000gn/T/ipykernel_29097/3805557949.py:24: DeprecationWarning: `np.int` is a deprecated alias for the builtin `int`. To silence this warning, use `int` by itself. Doing this will not modify any behavior and is safe. When replacing `np.int`, you may wish to use e.g. `np.int64` or `np.int32` to specify the precision. If you wish to review your current use, check the release note link for additional information.\n",
      "Deprecated in NumPy 1.20; for more details and guidance: https://numpy.org/devdocs/release/1.20.0-notes.html#deprecations\n",
      "  xs = np.array(xs, dtype=np.int)\n"
     ]
    }
   ],
   "source": [
    "\n",
    "xs = []\n",
    "\n",
    "p = 10\n",
    "\n",
    "id_mat = np.zeros((all_num*all_num))\n",
    "eq_id = 1\n",
    "\n",
    "for i1 in range(all_num):\n",
    "    for j1 in range(i1+1,all_num):\n",
    "        i = xx_id[i1]\n",
    "        m = yy_id[i1]\n",
    "        k = xx_id[j1]\n",
    "        j = yy_id[j1]\n",
    "        if i+m==k+j:\n",
    "            x = np.zeros(p,)\n",
    "            x[i] = x[i] + 1; \n",
    "            x[m] = x[m] + 1; \n",
    "            x[j] = x[j] - 1;\n",
    "            x[k] = x[k] - 1;\n",
    "            xs.append(x)\n",
    "            id_mat[i1*all_num+j1] = eq_id\n",
    "            eq_id = eq_id + 1\n",
    "\n",
    "xs = np.array(xs, dtype=np.int)"
   ]
  },
  {
   "cell_type": "code",
   "execution_count": 5,
   "metadata": {},
   "outputs": [
    {
     "name": "stdout",
     "output_type": "stream",
     "text": [
      "i=1, success=0\n",
      "i=2, success=0\n",
      "i=3, success=0\n",
      "i=4, success=0\n",
      "i=5, success=0\n",
      "i=6, success=0\n",
      "i=7, success=0\n",
      "i=8, success=0\n",
      "i=9, success=0\n",
      "i=10, success=0\n",
      "i=11, success=0\n",
      "i=12, success=0\n",
      "i=13, success=0\n",
      "i=14, success=1\n",
      "i=15, success=7\n",
      "i=16, success=51\n",
      "i=17, success=144\n",
      "i=18, success=373\n",
      "i=19, success=860\n",
      "i=20, success=1754\n",
      "i=21, success=2863\n",
      "i=22, success=4270\n",
      "i=23, success=5795\n",
      "i=24, success=7085\n",
      "i=25, success=8027\n",
      "i=26, success=8666\n",
      "i=27, success=9187\n",
      "i=28, success=9488\n",
      "i=29, success=9654\n",
      "i=30, success=9814\n",
      "i=31, success=9881\n",
      "i=32, success=9919\n",
      "i=33, success=9945\n",
      "i=34, success=9980\n",
      "i=35, success=9983\n",
      "i=36, success=9991\n",
      "i=37, success=9998\n",
      "i=38, success=9994\n",
      "i=39, success=9997\n",
      "i=40, success=10000\n",
      "i=41, success=10000\n",
      "i=42, success=10000\n",
      "i=43, success=10000\n",
      "i=44, success=10000\n",
      "i=45, success=10000\n",
      "i=46, success=10000\n",
      "i=47, success=10000\n",
      "i=48, success=10000\n",
      "i=49, success=10000\n",
      "i=50, success=10000\n",
      "i=51, success=10000\n",
      "i=52, success=10000\n",
      "i=53, success=10000\n",
      "i=54, success=10000\n",
      "i=55, success=10000\n"
     ]
    }
   ],
   "source": [
    "ss = []\n",
    "eigs_0 = []\n",
    "eigs_1 = []\n",
    "eigs_2 = []\n",
    "\n",
    "for i in range(1,all_num+1):\n",
    "    n_trial = 10000\n",
    "    success = 0\n",
    "    eig0 = 0\n",
    "    eig1 = 0\n",
    "    eig2 = 0\n",
    "    for j in range(n_trial):\n",
    "        train_id = np.random.choice(all_num,i,replace=False)\n",
    "        eq_ids = id_mat[((train_id*all_num)[:,np.newaxis] + train_id[np.newaxis,:]).reshape(-1,)].astype(int)\n",
    "        eq_ids = np.unique(eq_ids)[1:] - 1\n",
    "        indices = eq_ids\n",
    "        \n",
    "        mat = xs[indices]\n",
    "        gram = np.matmul(np.transpose(mat), mat)\n",
    "        det = int(np.linalg.det(gram))\n",
    "        eigs = scipy.linalg.eigh(gram)[0]\n",
    "        success += (eigs[2]>1e-8)\n",
    "        eig0 = eig0 + eigs[2]\n",
    "        eig1 = eig1 + eigs[3]\n",
    "        eig2 = eig2 + eigs[4]\n",
    "    eig0 = eig0/n_trial\n",
    "    eig1 = eig1/n_trial\n",
    "    eig2 = eig2/n_trial\n",
    "    print(\"i={}, success={}\".format(i,success))\n",
    "    ss.append(success/n_trial)\n",
    "    eigs_0.append(eig0)\n",
    "    eigs_1.append(eig1)\n",
    "    eigs_2.append(eig2)"
   ]
  },
  {
   "cell_type": "code",
   "execution_count": 13,
   "metadata": {},
   "outputs": [
    {
     "data": {
      "text/plain": [
       "Text(0, 0.5, 'P(Unique)')"
      ]
     },
     "execution_count": 13,
     "metadata": {},
     "output_type": "execute_result"
    },
    {
     "data": {
      "image/png": "[encoded data removed]",
      "text/plain": [
       "<Figure size 432x288 with 1 Axes>"
      ]
     },
     "metadata": {
      "needs_background": "light"
     },
     "output_type": "display_data"
    }
   ],
   "source": [
    "import matplotlib.pyplot as plt\n",
    "ss = np.array(ss)\n",
    "x = np.arange(1,all_num+1)\n",
    "plt.plot(x/55, ss, marker=\"o\")\n",
    "plt.xlabel(\"Number of training data\",fontsize=20)\n",
    "plt.ylabel(\"P(Unique)\",fontsize=20)"
   ]
  },
  {
   "cell_type": "code",
   "execution_count": null,
   "metadata": {},
   "outputs": [],
   "source": []
  }
 ],
 "metadata": {
  "kernelspec": {
   "display_name": "Python 3 (ipykernel)",
   "language": "python",
   "name": "python3"
  },
  "language_info": {
   "codemirror_mode": {
    "name": "ipython",
    "version": 3
   },
   "file_extension": ".py",
   "mimetype": "text/x-python",
   "name": "python",
   "nbconvert_exporter": "python",
   "pygments_lexer": "ipython3",
   "version": "3.9.7"
  }
 },
 "nbformat": 4,
 "nbformat_minor": 4
}
