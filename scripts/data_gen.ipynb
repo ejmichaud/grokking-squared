{
 "cells": [
  {
   "cell_type": "code",
   "execution_count": 2,
   "metadata": {},
   "outputs": [],
   "source": [
    "import numpy as np\n",
    "from itertools import combinations, product, combinations_with_replacement\n",
    "from matplotlib import pyplot as plt"
   ]
  },
  {
   "cell_type": "code",
   "execution_count": 13,
   "metadata": {},
   "outputs": [],
   "source": [
    "p = 6\n",
    "total_num = (p**2+p)//2\n",
    "pairs = combinations_with_replacement(range(p), 2)\n",
    "parralellograms_all = [{pair1, pair2} for pair1, pair2 in combinations(pairs, 2) if sum(pair1) == sum(pair2)]\n",
    "parralellograms_matrix = []"
   ]
  },
  {
   "cell_type": "code",
   "execution_count": 14,
   "metadata": {},
   "outputs": [],
   "source": [
    "def random_split_index(total_num, train_frac=0.8):\n",
    "    train_num = int(total_num*train_frac)\n",
    "    train_indecies = sorted(np.random.choice(total_num, train_num, replace=False))\n",
    "    test_indecies = sorted(list(set(np.arange(total_num)) - set(train_indecies)))\n",
    "    return train_indecies, test_indecies\n",
    "\n",
    "to_tuple = lambda x: map(tuple, x)\n",
    "def get_paralellograms(x): \n",
    "    return [(pair1, pair2) for pair1, pair2 in combinations(to_tuple(x), 2) if sum(pair1) == sum(pair2)]\n",
    "\n",
    "np.random.seed(0)  \n",
    "train_id, test_id = random_split_index(total_num, 0.5)\n",
    "pairs = np.array(list(combinations_with_replacement(range(p), 2)))\n",
    "parralellograms_all = get_paralellograms(pairs)\n",
    "parralellograms_train = get_paralellograms(to_tuple(pairs[train_id]))\n",
    "parralellograms_test = get_paralellograms(to_tuple(pairs[test_id]))"
   ]
  },
  {
   "cell_type": "code",
   "execution_count": 15,
   "metadata": {},
   "outputs": [
    {
     "name": "stdout",
     "output_type": "stream",
     "text": [
      "[((1, 3), (2, 2)), ((1, 5), (2, 4))]\n",
      "[((0, 3), (1, 2)), ((0, 5), (1, 4)), ((0, 5), (2, 3)), ((1, 4), (2, 3))]\n",
      "[((0, 2), (1, 1)), ((0, 3), (1, 2)), ((0, 4), (1, 3)), ((0, 4), (2, 2)), ((0, 5), (1, 4)), ((0, 5), (2, 3)), ((1, 3), (2, 2)), ((1, 4), (2, 3)), ((1, 5), (2, 4)), ((1, 5), (3, 3)), ((2, 4), (3, 3)), ((2, 5), (3, 4)), ((3, 5), (4, 4))]\n"
     ]
    }
   ],
   "source": [
    "print(parralellograms_train)\n",
    "print(parralellograms_test)\n",
    "print(parralellograms_all)"
   ]
  },
  {
   "cell_type": "code",
   "execution_count": 16,
   "metadata": {},
   "outputs": [
    {
     "data": {
      "image/png": "[encoded data removed]",
      "text/plain": [
       "<Figure size 432x288 with 1 Axes>"
      ]
     },
     "metadata": {
      "needs_background": "light"
     },
     "output_type": "display_data"
    }
   ],
   "source": [
    "mat = [[i+j for i in range(p)] for j in range(p)]\n",
    "for i, (pair1, pair2) in enumerate(parralellograms_all):\n",
    "    mat[pair1[0]][pair1[1]] = -1\n",
    "    mat[pair2[0]][pair2[1]] = -1\n",
    "    plt.scatter(*pair1, marker=f\"${sum(pair1)}$\", color=f'C{i}', alpha=0.8)\n",
    "    plt.scatter(*pair2, marker=f\"${sum(pair2)}$\", color=f'C{i}', alpha=0.8)\n",
    "for row, col in product(range(p), range(p)):\n",
    "    if mat[row][col] != -1:\n",
    "        plt.scatter(row, col, marker=f\"${row+col}$\", color='black')\n",
    "plt.show()"
   ]
  },
  {
   "cell_type": "code",
   "execution_count": 17,
   "metadata": {},
   "outputs": [],
   "source": [
    "parralellograms_matrix = set()\n",
    "parralellograms_matrix_train = set()\n",
    "def get_row(eqn):\n",
    "    row = np.zeros(p)\n",
    "    (i, j), (k, l) = eqn\n",
    "    row[i] += 1\n",
    "    row[j] += 1\n",
    "    row[k] -= 1\n",
    "    row[l] -= 1\n",
    "    return tuple(row.tolist())\n",
    "\n",
    "for eqn in parralellograms_all:\n",
    "    row = get_row(eqn)\n",
    "    parralellograms_matrix.add(row)\n",
    "    if eqn in parralellograms_train:\n",
    "        parralellograms_matrix_train.add(row)\n",
    "\n",
    "\n",
    "def augment_matrix(matrix):\n",
    "    _rank = lambda x: np.linalg.matrix_rank(np.array(list(x)))\n",
    "    new_matrix = matrix.copy()\n",
    "    for row in parralellograms_matrix:\n",
    "        if row in matrix:\n",
    "            continue\n",
    "        tmp = new_matrix.copy()\n",
    "        tmp.add(row)\n",
    "        if _rank(new_matrix) == _rank(tmp):\n",
    "            new_matrix.add(row)\n",
    "    return new_matrix"
   ]
  },
  {
   "cell_type": "code",
   "execution_count": 18,
   "metadata": {},
   "outputs": [
    {
     "name": "stdout",
     "output_type": "stream",
     "text": [
      "{(0.0, 1.0, -2.0, 1.0, 0.0, 0.0), (0.0, 1.0, -1.0, -1.0, 1.0, 0.0), (0.0, 0.0, 1.0, -1.0, -1.0, 1.0), (0.0, 1.0, -1.0, 0.0, -1.0, 1.0), (0.0, 1.0, 0.0, -2.0, 0.0, 1.0), (0.0, 0.0, 0.0, 1.0, -2.0, 1.0), (1.0, -1.0, 0.0, -1.0, 1.0, 0.0), (1.0, -1.0, -1.0, 1.0, 0.0, 0.0), (1.0, 0.0, -1.0, -1.0, 0.0, 1.0), (1.0, 0.0, -2.0, 0.0, 1.0, 0.0), (0.0, 0.0, 1.0, -2.0, 1.0, 0.0), (1.0, -2.0, 1.0, 0.0, 0.0, 0.0), (1.0, -1.0, 0.0, 0.0, -1.0, 1.0)}\n",
      "{(0.0, 1.0, -2.0, 1.0, 0.0, 0.0), (0.0, 1.0, -1.0, 0.0, -1.0, 1.0)}\n",
      "{(0.0, 1.0, -2.0, 1.0, 0.0, 0.0), (0.0, 0.0, 1.0, -1.0, -1.0, 1.0), (0.0, 1.0, -1.0, 0.0, -1.0, 1.0)}\n"
     ]
    }
   ],
   "source": [
    "print(parralellograms_matrix)\n",
    "print(parralellograms_matrix_train)\n",
    "print(augment_matrix(parralellograms_matrix_train))"
   ]
  },
  {
   "cell_type": "code",
   "execution_count": 20,
   "metadata": {},
   "outputs": [
    {
     "data": {
      "text/plain": [
       "array([[0, 0],\n",
       "       [0, 2],\n",
       "       [0, 3],\n",
       "       [0, 4],\n",
       "       [0, 5],\n",
       "       [1, 2],\n",
       "       [1, 4],\n",
       "       [2, 3],\n",
       "       [3, 3],\n",
       "       [3, 4],\n",
       "       [3, 5]])"
      ]
     },
     "execution_count": 20,
     "metadata": {},
     "output_type": "execute_result"
    }
   ],
   "source": [
    "pairs[test_id]"
   ]
  },
  {
   "cell_type": "code",
   "execution_count": 21,
   "metadata": {},
   "outputs": [
    {
     "data": {
      "text/plain": [
       "array([[0, 1],\n",
       "       [1, 1],\n",
       "       [1, 3],\n",
       "       [1, 5],\n",
       "       [2, 2],\n",
       "       [2, 4],\n",
       "       [2, 5],\n",
       "       [4, 4],\n",
       "       [4, 5],\n",
       "       [5, 5]])"
      ]
     },
     "execution_count": 21,
     "metadata": {},
     "output_type": "execute_result"
    }
   ],
   "source": [
    "pairs[train_id]"
   ]
  },
  {
   "cell_type": "code",
   "execution_count": 30,
   "metadata": {},
   "outputs": [
    {
     "name": "stdout",
     "output_type": "stream",
     "text": [
      "[3 4] is in ((2, 5), (3, 4))\n"
     ]
    }
   ],
   "source": [
    "# Get parallelograms \n",
    "parralellograms_matrix_train_augmented = augment_matrix(parralellograms_matrix_train)\n",
    "for pair in pairs[test_id]:\n",
    "    for parallelogram in parralellograms_all:\n",
    "        if tuple(pair) in parallelogram:\n",
    "            if get_row(parallelogram) in parralellograms_matrix_train_augmented:\n",
    "                print(f\"{pair} is in {parallelogram}\")"
   ]
  },
  {
   "cell_type": "code",
   "execution_count": null,
   "metadata": {},
   "outputs": [],
   "source": []
  }
 ],
 "metadata": {
  "interpreter": {
   "hash": "1d57e5d6bf9feb93d751da48b3322cce599fe4781d036e1a5603ac4d4b53d3fd"
  },
  "kernelspec": {
   "display_name": "Python 3.9.7 ('main')",
   "language": "python",
   "name": "python3"
  },
  "language_info": {
   "codemirror_mode": {
    "name": "ipython",
    "version": 3
   },
   "file_extension": ".py",
   "mimetype": "text/x-python",
   "name": "python",
   "nbconvert_exporter": "python",
   "pygments_lexer": "ipython3",
   "version": "3.9.7"
  },
  "orig_nbformat": 4
 },
 "nbformat": 4,
 "nbformat_minor": 2
}
