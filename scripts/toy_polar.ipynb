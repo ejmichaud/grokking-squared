{
 "cells": [
  {
   "cell_type": "code",
   "execution_count": 15,
   "metadata": {},
   "outputs": [
    {
     "name": "stderr",
     "output_type": "stream",
     "text": [
      "\n",
      "\n",
      "\n",
      "\n",
      "\n",
      "Train | Test\u001b[A\n",
      "\n",
      "\n",
      "\n",
      "\n",
      "\n",
      "Train | Test\u001b[A\u001b[A\u001b[A\u001b[A\u001b[A"
     ]
    },
    {
     "data": {
      "application/vnd.jupyter.widget-view+json": {
       "model_id": "f143acc6e25e48209c83b63b762470e9",
       "version_major": 2,
       "version_minor": 0
      },
      "text/plain": [
       "  0%|          | 0/500000 [00:00<?, ?it/s]"
      ]
     },
     "metadata": {},
     "output_type": "display_data"
    }
   ],
   "source": [
    "%matplotlib notebook\n",
    "from itertools import product\n",
    "import torch\n",
    "import torch.nn as nn\n",
    "import torch.optim as optim\n",
    "from torchmetrics import Accuracy\n",
    "from models import Decoder\n",
    "from utils import split_dataset\n",
    "from tqdm import tqdm\n",
    "from tqdm.notebook import tqdm as tqdm_notebook\n",
    "from matplotlib import pyplot as plt\n",
    "from matplotlib.animation import FuncAnimation\n",
    "\n",
    "# Hyper parameters\n",
    "EPOCHS = 500000\n",
    "SEED = 1\n",
    "CONCAT = False\n",
    "PLOT = False\n",
    "torch.manual_seed(SEED)\n",
    "\n",
    "# X = torch.rand(100, 2, 2)\n",
    "# Y = X.norm(dim=1).sum(-1)\n",
    "# unit_circle_cart = torch.hstack([r * torch.cos(theta), r * torch.sin(theta)])\n",
    "p = 10\n",
    "theta = torch.linspace(0, 2 * torch.pi, p).view(-1, 1)\n",
    "r = torch.tensor([1])\n",
    "unit_circle_polar = torch.hstack([r * torch.ones_like(theta), theta])\n",
    "index_pairs = torch.tensor(list(product(range(p), range(p))))\n",
    "X = unit_circle_polar[index_pairs]\n",
    "Y = X[:, :, 1].sum(-1, keepdim=True).view(p, p)\n",
    "train_idx, test_idx = split_dataset(index_pairs, split_ratio=0.1)\n",
    "\n",
    "representation = torch.randn_like(unit_circle_polar).requires_grad_()\n",
    "model = Decoder(input_dim=2, output_dim=1, w=10, concat=CONCAT)\n",
    "param_groups = [{\"params\": (representation, ), \"lr\": 0.1},\n",
    "                {\"params\": model.parameters(), \"lr\": 0.0001}]\n",
    "optimizer = optim.Adam(param_groups)\n",
    "loss_func = nn.MSELoss()\n",
    "accuracy = Accuracy()\n",
    "# Adding is some sort of common denominator for various problems\n",
    "\n",
    "\n",
    "def step(idx):\n",
    "    pred = model(representation[idx])\n",
    "    target = Y[idx[:, 0], idx[:, 1]].view(-1, 1)\n",
    "    loss = loss_func(pred, target)\n",
    "    return loss\n",
    "\n",
    "\n",
    "def train(idx):\n",
    "    optimizer.zero_grad()\n",
    "    loss = step(idx)\n",
    "    loss.backward()\n",
    "    optimizer.step()\n",
    "    return loss.item()\n",
    "\n",
    "\n",
    "def test(idx):\n",
    "    with torch.no_grad():\n",
    "        loss = step(idx)\n",
    "    return loss.item()\n",
    "\n",
    "\n",
    "topbar = tqdm(bar_format='{desc}{postfix}')\n",
    "topbar.set_description(\"Train | Test\")\n",
    "pbar = tqdm_notebook(total=EPOCHS)\n",
    "\n",
    "\n",
    "def next_step():\n",
    "    for indices, *_ in train_idx:\n",
    "        train_loss = train(indices)\n",
    "    for indices, *_ in test_idx:\n",
    "        test_loss = test(indices)\n",
    "    pbar.set_description(f\"{train_loss:.4e} | {test_loss:.4e}\")\n",
    "    pbar.update()\n",
    "\n",
    "if PLOT:\n",
    "    fig, ax = plt.subplots()\n",
    "    xdata, ydata = [], []\n",
    "    sc = plt.scatter([], [])\n",
    "\n",
    "    def init():\n",
    "        ax.set_xlim(-10, 10)\n",
    "        ax.set_ylim(-10, 10)\n",
    "        return sc,\n",
    "\n",
    "    def update(frame):\n",
    "        for i in range(10):\n",
    "            next_step()\n",
    "        pts = representation.detach().cpu().numpy()\n",
    "        sc.set_offsets(pts)\n",
    "        bounds = (pts.min(0), pts.max(0))\n",
    "        ax.set_xlim(bounds[0][0], bounds[1][0])\n",
    "        ax.set_ylim(bounds[0][1], bounds[1][1])\n",
    "        return sc,\n",
    "\n",
    "    ani = FuncAnimation(fig, update, frames=EPOCHS,\n",
    "                        init_func=init, blit=True, repeat=False)\n",
    "    plt.show()\n",
    "else:\n",
    "    for i in range(EPOCHS):\n",
    "        next_step()\n",
    "\n"
   ]
  },
  {
   "cell_type": "code",
   "execution_count": null,
   "metadata": {},
   "outputs": [],
   "source": []
  }
 ],
 "metadata": {
  "interpreter": {
   "hash": "1d57e5d6bf9feb93d751da48b3322cce599fe4781d036e1a5603ac4d4b53d3fd"
  },
  "kernelspec": {
   "display_name": "Python 3 (ipykernel)",
   "language": "python",
   "name": "python3"
  },
  "language_info": {
   "codemirror_mode": {
    "name": "ipython",
    "version": 3
   },
   "file_extension": ".py",
   "mimetype": "text/x-python",
   "name": "python",
   "nbconvert_exporter": "python",
   "pygments_lexer": "ipython3",
   "version": "3.9.7"
  }
 },
 "nbformat": 4,
 "nbformat_minor": 2
}
