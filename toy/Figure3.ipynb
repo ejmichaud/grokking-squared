{
 "cells": [
  {
   "cell_type": "markdown",
   "id": "423d6851",
   "metadata": {},
   "source": [
    "Figure 3 aims to show the power of representation. Acc is the actual accuracy, while \\hat{Acc} is the predicted accuracy from representations. Note here the accuracy is evaluated on the full dataset (including both training and test)."
   ]
  },
  {
   "cell_type": "code",
   "execution_count": 28,
   "id": "8444f77a",
   "metadata": {},
   "outputs": [],
   "source": [
    "from ipynb.fs.full.train_add import train_add"
   ]
  },
  {
   "cell_type": "code",
   "execution_count": 29,
   "id": "42f17463",
   "metadata": {},
   "outputs": [
    {
     "name": "stdout",
     "output_type": "stream",
     "text": [
      "Using device: cpu\n",
      "train_num=45\n",
      "seed=58\n",
      "steps=5000\n",
      "----------------------------------------\n",
      "Task 1: Analyzing the dataset before training...\n",
      "acc_ideal_test = 10/10=1.0\n",
      "the degree of freedom (except translation/scaling) for the reprsentation is 0\n",
      "dof=0 means the linear repr is the unique repr, while dof>0 means existence of other reprs\n",
      "----------------------------------------\n",
      "Task 2: Training with neural network...\n",
      "step: 0  | loss: 0.98126626 \n",
      "step: 1000  | loss: 0.43041232 \n",
      "step: 2000  | loss: 0.10177844 \n",
      "step: 3000  | loss: 0.02234226 \n",
      "step: 4000  | loss: 0.00274835 \n",
      "final train acc=1.0000, test acc=1.0000, RQI=1.0000\n",
      "Steps to reach thresholds: train acc=1130, test acc=1529, RQI=800\n",
      "----------------------------------------\n",
      "Task 3: Training with effective loss...\n",
      "step: 0  | loss: 397.76652391 \n",
      "step: 1000  | loss: 0.03198431 \n",
      "step: 2000  | loss: 0.00000004 \n",
      "step: 3000  | loss: 0.00000000 \n",
      "step: 4000  | loss: 0.00000000 \n",
      "saving trajectories...\n"
     ]
    }
   ],
   "source": [
    "dic = train_add(steps=5000, loss_type=\"MSE\", train_num=45)"
   ]
  },
  {
   "cell_type": "markdown",
   "id": "6e13fd5b",
   "metadata": {},
   "source": [
    "The following three quantities are: training fraction, accuracy (predicted from representation) and real accuracy. We expect the second and third quantity are approximately the same, both of which are larger than the first quantity. "
   ]
  },
  {
   "cell_type": "code",
   "execution_count": 30,
   "id": "e1cf7a88",
   "metadata": {},
   "outputs": [
    {
     "data": {
      "text/plain": [
       "(0.8181818181818182, 1.0, 1.0)"
      ]
     },
     "execution_count": 30,
     "metadata": {},
     "output_type": "execute_result"
    }
   ],
   "source": [
    "dic[\"train_ratio\"], dic[\"pred_acc\"], dic[\"acc\"][-1]"
   ]
  },
  {
   "cell_type": "markdown",
   "id": "a89663e6",
   "metadata": {},
   "source": [
    "Let's try more random seeds and data size! Our experience is that it may be better to parallelize these tasks to multiple CPUs (since this task is quite toy), instead of running them seqentially on a single GPU. It takes about 5 minutes on a personal laptop."
   ]
  },
  {
   "cell_type": "code",
   "execution_count": null,
   "id": "d40cd5ae",
   "metadata": {},
   "outputs": [],
   "source": [
    "import numpy as np\n",
    "from multiprocess import Pool\n",
    "import os\n",
    "import sys\n",
    "\n",
    "\n",
    "path = \"./results/fig3/\"\n",
    "isExist = os.path.exists(path)\n",
    "if not isExist:\n",
    "    os.makedirs(path)\n",
    "    \n",
    "class HiddenPrints:\n",
    "    def __enter__(self):\n",
    "        self._original_stdout = sys.stdout\n",
    "        sys.stdout = open(os.devnull, 'w')\n",
    "\n",
    "    def __exit__(self, exc_type, exc_val, exc_tb):\n",
    "        sys.stdout.close()\n",
    "        sys.stdout = self._original_stdout\n",
    "\n",
    "def train_many(params):\n",
    "    train_num = int(params[0])\n",
    "    seed = int(params[1])\n",
    "    print(\"train_num={}, seed={}\".format(train_num, seed))\n",
    "    with HiddenPrints():\n",
    "        dic = train_add(train_num=train_num, seed=seed, steps=5000, eff_steps=1)\n",
    "    np.savetxt(path+\"trainfrac_num_%d_seed_%d.txt\"%(train_num, seed), np.array([dic[\"train_ratio\"]]))\n",
    "    np.savetxt(path+\"predacc_num_%d_seed_%d.txt\"%(train_num, seed), np.array([dic[\"pred_acc\"]]))\n",
    "    np.savetxt(path+\"realacc_num_%d_seed_%d.txt\"%(train_num, seed), np.array([dic[\"acc\"][-1]]))\n",
    "    #dic[\"train_ratio\"], dic[\"pred_acc\"], dic[\"acc\"][-1]\n",
    "\n",
    "train_nums = [5,10,15,20,25,30,35,40,45,50,54]\n",
    "seeds = [0,1,2]\n",
    "\n",
    "xx, yy = np.meshgrid(train_nums, seeds)\n",
    "params = list(np.transpose(np.array([xx.reshape(-1,), yy.reshape(-1,)])))\n",
    "\n",
    "\n",
    "if __name__ == '__main__':\n",
    "    with Pool(11) as p:\n",
    "        p.map(train_many, params)"
   ]
  },
  {
   "cell_type": "code",
   "execution_count": 4,
   "id": "a4fd500a",
   "metadata": {},
   "outputs": [],
   "source": [
    "import numpy as np\n",
    "\n",
    "path = \"./results/fig3/\"\n",
    "train_nums = [5,10,15,20,25,30,35,40,45,50,54]\n",
    "seeds = [0,1,2]\n",
    "\n",
    "def load_data(train_num, seed):\n",
    "    trainfrac = np.loadtxt(path+\"trainfrac_num_%d_seed_%d.txt\"%(train_num, seed))\n",
    "    predacc = np.loadtxt(path+\"predacc_num_%d_seed_%d.txt\"%(train_num, seed))\n",
    "    realacc = np.loadtxt(path+\"realacc_num_%d_seed_%d.txt\"%(train_num, seed))\n",
    "    return trainfrac, realacc, predacc\n",
    "\n",
    "trainfracs = []\n",
    "realaccs = []\n",
    "predaccs = []\n",
    "for train_num in train_nums:\n",
    "    for seed in seeds:\n",
    "        trainfrac, realacc, predacc = load_data(train_num, seed)\n",
    "        trainfracs.append(trainfrac); realaccs.append(realacc); predaccs.append(predacc)\n",
    "        \n"
   ]
  },
  {
   "cell_type": "code",
   "execution_count": 21,
   "id": "04715a3f",
   "metadata": {},
   "outputs": [
    {
     "name": "stdout",
     "output_type": "stream",
     "text": [
      "The points are above the line\n"
     ]
    },
    {
     "data": {
      "text/plain": [
       "Text(0.5, 1.0, 'Figure 3 (a)')"
      ]
     },
     "execution_count": 21,
     "metadata": {},
     "output_type": "execute_result"
    },
    {
     "data": {
      "image/png": "[encoded data removed]",
      "text/plain": [
       "<Figure size 360x360 with 1 Axes>"
      ]
     },
     "metadata": {
      "needs_background": "light"
     },
     "output_type": "display_data"
    }
   ],
   "source": [
    "import matplotlib.pyplot as plt\n",
    "\n",
    "plt.figure(figsize=(5,5))\n",
    "fontsize = 15\n",
    "# Figure 3a\n",
    "plt.scatter(trainfracs, realaccs)\n",
    "plt.plot([0.,1],[0,1], ls=\"--\", color=\"red\")\n",
    "plt.xlabel(\"training data fraction\", fontsize=fontsize)\n",
    "plt.ylabel(\"Acc\", fontsize=fontsize)\n",
    "print(\"The points are above the line\")\n",
    "\n",
    "plt.title(\"Figure 3 (a)\", fontsize=fontsize)"
   ]
  },
  {
   "cell_type": "code",
   "execution_count": 22,
   "id": "b9d9f200",
   "metadata": {},
   "outputs": [
    {
     "name": "stdout",
     "output_type": "stream",
     "text": [
      "The points are above the line\n"
     ]
    },
    {
     "data": {
      "text/plain": [
       "Text(0.5, 1.0, 'Figure 3 (b)')"
      ]
     },
     "execution_count": 22,
     "metadata": {},
     "output_type": "execute_result"
    },
    {
     "data": {
      "image/png": "[encoded data removed]",
      "text/plain": [
       "<Figure size 360x360 with 1 Axes>"
      ]
     },
     "metadata": {
      "needs_background": "light"
     },
     "output_type": "display_data"
    }
   ],
   "source": [
    "import matplotlib.pyplot as plt\n",
    "\n",
    "plt.figure(figsize=(5,5))\n",
    "fontsize = 15\n",
    "# Figure 3b\n",
    "plt.scatter(trainfracs, predaccs)\n",
    "plt.plot([0.,1],[0,1], ls=\"--\", color=\"red\")\n",
    "plt.xlabel(\"training data fraction\", fontsize=fontsize)\n",
    "plt.ylabel(r\"$\\widehat{\\rm Acc}$\", fontsize=fontsize)\n",
    "print(\"The points are above the line\")\n",
    "\n",
    "plt.title(\"Figure 3 (b)\", fontsize=fontsize)"
   ]
  },
  {
   "cell_type": "code",
   "execution_count": 23,
   "id": "d4519133",
   "metadata": {},
   "outputs": [
    {
     "name": "stdout",
     "output_type": "stream",
     "text": [
      "The points are approximately on the line\n"
     ]
    },
    {
     "data": {
      "text/plain": [
       "Text(0.5, 1.0, 'Figure 3 (c)')"
      ]
     },
     "execution_count": 23,
     "metadata": {},
     "output_type": "execute_result"
    },
    {
     "data": {
      "image/png": "[encoded data removed]",
      "text/plain": [
       "<Figure size 360x360 with 1 Axes>"
      ]
     },
     "metadata": {
      "needs_background": "light"
     },
     "output_type": "display_data"
    }
   ],
   "source": [
    "import matplotlib.pyplot as plt\n",
    "\n",
    "plt.figure(figsize=(5,5))\n",
    "fontsize = 15\n",
    "# Figure 3c\n",
    "plt.scatter(predaccs, realaccs)\n",
    "plt.plot([0.,1],[0,1], ls=\"--\", color=\"red\")\n",
    "plt.xlabel(\"training data fraction\", fontsize=fontsize)\n",
    "plt.ylabel(\"Acc\", fontsize=fontsize)\n",
    "print(\"The points are approximately on the line\")\n",
    "\n",
    "plt.title(\"Figure 3 (c)\", fontsize=fontsize)"
   ]
  },
  {
   "cell_type": "code",
   "execution_count": null,
   "id": "35ed59c3",
   "metadata": {},
   "outputs": [],
   "source": []
  }
 ],
 "metadata": {
  "kernelspec": {
   "display_name": "Python 3 (ipykernel)",
   "language": "python",
   "name": "python3"
  },
  "language_info": {
   "codemirror_mode": {
    "name": "ipython",
    "version": 3
   },
   "file_extension": ".py",
   "mimetype": "text/x-python",
   "name": "python",
   "nbconvert_exporter": "python",
   "pygments_lexer": "ipython3",
   "version": "3.9.7"
  }
 },
 "nbformat": 4,
 "nbformat_minor": 5
}
