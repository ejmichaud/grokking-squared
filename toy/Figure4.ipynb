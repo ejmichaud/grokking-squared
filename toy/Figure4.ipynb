{
 "cells": [
  {
   "cell_type": "markdown",
   "id": "d034ef29",
   "metadata": {},
   "source": [
    "This notebook aims to reproduce Figure 4 (a)(b). (c)(d) can be found in add_tutorial.ipynb."
   ]
  },
  {
   "cell_type": "markdown",
   "id": "885c09e2",
   "metadata": {},
   "source": [
    "Note Figure 4 (a) does not require any training, and depends solely on the training set. So we can set steps and eff_steps to 1 to reduce running time. (there's a bug if you set them to 0)"
   ]
  },
  {
   "cell_type": "code",
   "execution_count": 18,
   "id": "f35ccefc",
   "metadata": {},
   "outputs": [],
   "source": [
    "from ipynb.fs.full.train_add import train_add"
   ]
  },
  {
   "cell_type": "code",
   "execution_count": 19,
   "id": "1e8ebac6",
   "metadata": {},
   "outputs": [
    {
     "name": "stdout",
     "output_type": "stream",
     "text": [
      "Using device: cpu\n",
      "train_num=45\n",
      "seed=58\n",
      "steps=1\n",
      "----------------------------------------\n",
      "Task 1: Analyzing the dataset before training...\n",
      "acc_ideal_test = 10/10=1.0\n",
      "the degree of freedom (except translation/scaling) for the reprsentation is 0\n",
      "dof=0 means the linear repr is the unique repr, while dof>0 means existence of other reprs\n",
      "----------------------------------------\n",
      "Task 2: Training with neural network...\n",
      "step: 0  | loss: 0.98126626 \n",
      "final train acc=0.0444, test acc=0.2000, RQI=0.0143\n",
      "Steps to reach thresholds: train acc=0, test acc=0, RQI=0\n",
      "----------------------------------------\n",
      "Task 3: Training with effective loss...\n",
      "step: 0  | loss: 397.76652391 \n",
      "saving trajectories...\n"
     ]
    }
   ],
   "source": [
    "dic = train_add(steps=1, eff_steps=1, loss_type=\"MSE\", train_num=45)"
   ]
  },
  {
   "cell_type": "markdown",
   "id": "94d0b05c",
   "metadata": {},
   "source": [
    "we care about the degree of freedom of the representation. A linear representation (1D) have at most two dofs: translation and scaling. So dof > 2 means the linear representation is not unique"
   ]
  },
  {
   "cell_type": "code",
   "execution_count": 20,
   "id": "6455ee8b",
   "metadata": {},
   "outputs": [
    {
     "data": {
      "text/plain": [
       "2"
      ]
     },
     "execution_count": 20,
     "metadata": {},
     "output_type": "execute_result"
    }
   ],
   "source": [
    "dic[\"dof\"]"
   ]
  },
  {
   "cell_type": "markdown",
   "id": "64459261",
   "metadata": {},
   "source": [
    "Now we reproduce Figure 4 (a). If you want to get a smoother curve, use a larger seeds or finer train_nums. seeds=100 should take 1-2 minutes on a single CPU."
   ]
  },
  {
   "cell_type": "code",
   "execution_count": 4,
   "id": "f2ce003c",
   "metadata": {},
   "outputs": [
    {
     "name": "stdout",
     "output_type": "stream",
     "text": [
      "train_num=3\n",
      "train_num=6\n",
      "train_num=9\n",
      "train_num=12\n",
      "train_num=15\n",
      "train_num=18\n",
      "train_num=21\n",
      "train_num=24\n",
      "train_num=27\n",
      "train_num=30\n",
      "train_num=33\n",
      "train_num=36\n",
      "train_num=39\n",
      "train_num=42\n",
      "train_num=45\n",
      "train_num=48\n",
      "train_num=51\n",
      "train_num=54\n"
     ]
    }
   ],
   "source": [
    "import numpy as np\n",
    "import sys\n",
    "import os\n",
    "\n",
    "train_nums = np.arange(1,19)*3\n",
    "seeds = 100\n",
    "probs = []\n",
    "\n",
    "\n",
    "class HiddenPrints:\n",
    "    def __enter__(self):\n",
    "        self._original_stdout = sys.stdout\n",
    "        sys.stdout = open(os.devnull, 'w')\n",
    "\n",
    "    def __exit__(self, exc_type, exc_val, exc_tb):\n",
    "        sys.stdout.close()\n",
    "        sys.stdout = self._original_stdout\n",
    "\n",
    "for train_num in train_nums:\n",
    "    print(\"train_num={}\".format(train_num))\n",
    "    success_count = 0\n",
    "    for seed in np.arange(seeds):\n",
    "        with HiddenPrints():\n",
    "            dic = train_add(train_num=train_num, seed=seed, steps=1, eff_steps=1)\n",
    "        success_count += (dic[\"dof\"]==2)\n",
    "    prob = success_count/seeds\n",
    "    probs.append(prob)"
   ]
  },
  {
   "cell_type": "code",
   "execution_count": 9,
   "id": "aad5d114",
   "metadata": {},
   "outputs": [
    {
     "data": {
      "text/plain": [
       "Text(0.5, 1.0, 'Figure 4 (a)')"
      ]
     },
     "execution_count": 9,
     "metadata": {},
     "output_type": "execute_result"
    },
    {
     "data": {
      "image/png": "[encoded data removed]",
      "text/plain": [
       "<Figure size 432x288 with 1 Axes>"
      ]
     },
     "metadata": {
      "needs_background": "light"
     },
     "output_type": "display_data"
    }
   ],
   "source": [
    "import matplotlib.pyplot as plt\n",
    "\n",
    "fontsize = 15\n",
    "# Figure 4(a)\n",
    "plt.plot(train_nums/dic[\"all_num\"], probs)\n",
    "plt.xlabel(\"training data fraction\", fontsize=fontsize)\n",
    "plt.ylabel(\"Probability(linear structure)\", fontsize=fontsize)\n",
    "plt.title(\"Figure 4 (a)\", fontsize=fontsize)"
   ]
  },
  {
   "cell_type": "markdown",
   "id": "62842843",
   "metadata": {},
   "source": [
    "Now we reproduce Figure 4 (b). If you want to get a smoother curve, use a larger seeds or finer train_nums. seeds=100 should take 5 minutes on personal laptop (~8 CPUs)."
   ]
  },
  {
   "cell_type": "code",
   "execution_count": 3,
   "id": "dcf7526e",
   "metadata": {},
   "outputs": [
    {
     "name": "stdout",
     "output_type": "stream",
     "text": [
      "train_num=5, seed=0train_num=15, seed=0train_num=10, seed=0train_num=25, seed=0train_num=20, seed=0train_num=30, seed=0train_num=35, seed=0train_num=40, seed=0train_num=45, seed=0train_num=50, seed=0\n",
      "\n",
      "\n",
      "\n",
      "\n",
      "train_num=54, seed=0\n",
      "\n",
      "\n",
      "\n",
      "\n",
      "\n",
      "train_num=5, seed=1\n",
      "train_num=10, seed=1\n",
      "train_num=15, seed=1\n",
      "train_num=20, seed=1\n",
      "train_num=25, seed=1\n",
      "train_num=30, seed=1\n",
      "train_num=35, seed=1\n",
      "train_num=40, seed=1\n",
      "train_num=45, seed=1\n",
      "train_num=50, seed=1\n",
      "train_num=54, seed=1\n",
      "train_num=5, seed=2\n",
      "train_num=10, seed=2\n",
      "train_num=15, seed=2\n",
      "train_num=20, seed=2\n",
      "train_num=25, seed=2\n",
      "train_num=30, seed=2\n",
      "train_num=35, seed=2\n",
      "train_num=40, seed=2\n",
      "train_num=45, seed=2\n",
      "train_num=50, seed=2\n",
      "train_num=54, seed=2\n"
     ]
    }
   ],
   "source": [
    "import numpy as np\n",
    "from multiprocess import Pool\n",
    "import os\n",
    "import sys\n",
    "\n",
    "\n",
    "path = \"./results/fig4/\"\n",
    "isExist = os.path.exists(path)\n",
    "if not isExist:\n",
    "    os.makedirs(path)\n",
    "    \n",
    "class HiddenPrints:\n",
    "    def __enter__(self):\n",
    "        self._original_stdout = sys.stdout\n",
    "        sys.stdout = open(os.devnull, 'w')\n",
    "\n",
    "    def __exit__(self, exc_type, exc_val, exc_tb):\n",
    "        sys.stdout.close()\n",
    "        sys.stdout = self._original_stdout\n",
    "\n",
    "def train_many(params):\n",
    "    train_num = int(params[0])\n",
    "    seed = int(params[1])\n",
    "    print(\"train_num={}, seed={}\".format(train_num, seed))\n",
    "    with HiddenPrints():\n",
    "        dic = train_add(train_num=train_num, seed=seed, steps=int(1e4), eff_steps=1)\n",
    "        np.savetxt(path+\"rqistep_num_%d_seed_%d.txt\"%(train_num, seed), np.array([dic[\"iter_rqi\"]]))\n",
    "\n",
    "train_nums = [5,10,15,20,25,30,35,40,45,50,54]\n",
    "seeds = [0,1,2]\n",
    "\n",
    "xx, yy = np.meshgrid(train_nums, seeds)\n",
    "params = list(np.transpose(np.array([xx.reshape(-1,), yy.reshape(-1,)])))\n",
    "\n",
    "\n",
    "if __name__ == '__main__':\n",
    "    with Pool(11) as p:\n",
    "        p.map(train_many, params)"
   ]
  },
  {
   "cell_type": "code",
   "execution_count": 11,
   "id": "db881d93",
   "metadata": {},
   "outputs": [],
   "source": [
    "import numpy as np\n",
    "\n",
    "path = \"./results/fig4/\"\n",
    "train_nums = [5,10,15,20,25,30,35,40,45,50,54]\n",
    "seeds = [0,1,2]\n",
    "\n",
    "def load_data(train_num, seed):\n",
    "    rqistep = np.loadtxt(path+\"rqistep_num_%d_seed_%d.txt\"%(train_num, seed))\n",
    "    return rqistep, train_num\n",
    "\n",
    "rqisteps = []\n",
    "train_nums_ = []\n",
    "for train_num in train_nums:\n",
    "    for seed in seeds:\n",
    "        rqistep, train_num = load_data(train_num, seed)\n",
    "        rqisteps.append(rqistep)\n",
    "        train_nums_.append(train_num)\n",
    "        "
   ]
  },
  {
   "cell_type": "code",
   "execution_count": 16,
   "id": "9862ffcf",
   "metadata": {},
   "outputs": [
    {
     "name": "stdout",
     "output_type": "stream",
     "text": [
      "The points are above the line\n"
     ]
    },
    {
     "data": {
      "text/plain": [
       "Text(0.5, 1.0, 'Figure 4 (b)')"
      ]
     },
     "execution_count": 16,
     "metadata": {},
     "output_type": "execute_result"
    },
    {
     "data": {
      "image/png": "[encoded data removed]",
      "text/plain": [
       "<Figure size 360x360 with 1 Axes>"
      ]
     },
     "metadata": {
      "needs_background": "light"
     },
     "output_type": "display_data"
    }
   ],
   "source": [
    "import matplotlib.pyplot as plt\n",
    "\n",
    "plt.figure(figsize=(5,5))\n",
    "fontsize = 15\n",
    "# Figure 3a\n",
    "p = 10\n",
    "all_num = int(p*(p+1)/2)\n",
    "plt.scatter(np.array(train_nums_)/all_num, rqisteps)\n",
    "plt.xlabel(\"training data fraction\", fontsize=fontsize)\n",
    "plt.ylabel(\"Steps to high RQI\", fontsize=fontsize)\n",
    "print(\"The points are above the line\")\n",
    "\n",
    "plt.title(\"Figure 4 (b)\", fontsize=fontsize)"
   ]
  },
  {
   "cell_type": "code",
   "execution_count": null,
   "id": "8a86a66f",
   "metadata": {},
   "outputs": [],
   "source": []
  }
 ],
 "metadata": {
  "kernelspec": {
   "display_name": "Python 3 (ipykernel)",
   "language": "python",
   "name": "python3"
  },
  "language_info": {
   "codemirror_mode": {
    "name": "ipython",
    "version": 3
   },
   "file_extension": ".py",
   "mimetype": "text/x-python",
   "name": "python",
   "nbconvert_exporter": "python",
   "pygments_lexer": "ipython3",
   "version": "3.9.7"
  }
 },
 "nbformat": 4,
 "nbformat_minor": 5
}
